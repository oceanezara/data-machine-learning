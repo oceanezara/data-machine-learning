{
  "cells": [
    {
      "cell_type": "code",
      "execution_count": 83,
      "id": "c4e756e7-7fe9-4273-91ce-826cd6942942",
      "metadata": {
        "id": "c4e756e7-7fe9-4273-91ce-826cd6942942"
      },
      "outputs": [],
      "source": [
        "!pip install -q xgboost\n",
        "!pip install -q s3fs"
      ]
    },
    {
      "cell_type": "code",
      "execution_count": 84,
      "id": "c8dc6078-1c5a-457a-8e2d-033182c114c2",
      "metadata": {
        "id": "c8dc6078-1c5a-457a-8e2d-033182c114c2"
      },
      "outputs": [],
      "source": [
        "# Load in our libraries\n",
        "import pandas as pd\n",
        "import numpy as np\n",
        "import plotly.express as px\n",
        "import plotly.graph_objects as go\n",
        "import plotly.io as pio\n",
        "# setting Jedha color palette as default\n",
        "pio.templates[\"jedha\"] = go.layout.Template(\n",
        "    layout_colorway=[\"#4B9AC7\", \"#4BE8E0\", \"#9DD4F3\", \"#97FBF6\", \"#2A7FAF\", \"#23B1AB\", \"#0E3449\", \"#015955\"]\n",
        ")\n",
        "pio.templates.default = \"jedha\"\n",
        "pio.renderers.default = \"colab\" # to be replaced by \"iframe\" if working on JULIE\n",
        "\n",
        "import warnings\n",
        "warnings.filterwarnings('ignore')\n",
        "\n",
        "from sklearn.model_selection import GridSearchCV\n",
        "from sklearn.model_selection import train_test_split\n",
        "from sklearn.pipeline import Pipeline\n",
        "from sklearn.compose import ColumnTransformer\n",
        "from sklearn.preprocessing import StandardScaler, OneHotEncoder\n",
        "from sklearn.impute import SimpleImputer, KNNImputer\n",
        "# import ensemble methods\n",
        "from sklearn.ensemble import RandomForestClassifier, BaggingClassifier, AdaBoostClassifier, GradientBoostingClassifier, StackingClassifier\n",
        "from xgboost import XGBClassifier\n",
        "from sklearn.tree import DecisionTreeClassifier\n",
        "from sklearn.linear_model import LogisticRegression\n",
        "from sklearn.metrics import f1_score, confusion_matrix"
      ]
    },
    {
      "cell_type": "code",
      "execution_count": 85,
      "id": "87902312-5112-49cc-a710-fa3e02ad30d3",
      "metadata": {
        "id": "87902312-5112-49cc-a710-fa3e02ad30d3",
        "colab": {
          "base_uri": "https://localhost:8080/"
        },
        "outputId": "a99898e5-4632-4c82-a43b-986245caa322"
      },
      "outputs": [
        {
          "output_type": "stream",
          "name": "stdout",
          "text": [
            "Set with labels (our train+test) : (284580, 6)\n"
          ]
        }
      ],
      "source": [
        "data = pd.read_csv('/content/sample_data/conversion_data_train.csv')\n",
        "print('Set with labels (our train+test) :', data.shape)"
      ]
    },
    {
      "cell_type": "code",
      "execution_count": 86,
      "id": "b1d45454-02e2-444e-b32b-cb30b8e6bbed",
      "metadata": {
        "id": "b1d45454-02e2-444e-b32b-cb30b8e6bbed",
        "colab": {
          "base_uri": "https://localhost:8080/",
          "height": 206
        },
        "outputId": "ecf0d013-7b00-4368-e5e5-8a705515d635"
      },
      "outputs": [
        {
          "output_type": "execute_result",
          "data": {
            "text/plain": [
              "   country  age  new_user  source  total_pages_visited  converted\n",
              "0    China   22         1  Direct                    2          0\n",
              "1       UK   21         1     Ads                    3          0\n",
              "2  Germany   20         0     Seo                   14          1\n",
              "3       US   23         1     Seo                    3          0\n",
              "4       US   28         1  Direct                    3          0"
            ],
            "text/html": [
              "\n",
              "  <div id=\"df-0d423b30-2780-4507-85cc-7d1c57ec6124\">\n",
              "    <div class=\"colab-df-container\">\n",
              "      <div>\n",
              "<style scoped>\n",
              "    .dataframe tbody tr th:only-of-type {\n",
              "        vertical-align: middle;\n",
              "    }\n",
              "\n",
              "    .dataframe tbody tr th {\n",
              "        vertical-align: top;\n",
              "    }\n",
              "\n",
              "    .dataframe thead th {\n",
              "        text-align: right;\n",
              "    }\n",
              "</style>\n",
              "<table border=\"1\" class=\"dataframe\">\n",
              "  <thead>\n",
              "    <tr style=\"text-align: right;\">\n",
              "      <th></th>\n",
              "      <th>country</th>\n",
              "      <th>age</th>\n",
              "      <th>new_user</th>\n",
              "      <th>source</th>\n",
              "      <th>total_pages_visited</th>\n",
              "      <th>converted</th>\n",
              "    </tr>\n",
              "  </thead>\n",
              "  <tbody>\n",
              "    <tr>\n",
              "      <th>0</th>\n",
              "      <td>China</td>\n",
              "      <td>22</td>\n",
              "      <td>1</td>\n",
              "      <td>Direct</td>\n",
              "      <td>2</td>\n",
              "      <td>0</td>\n",
              "    </tr>\n",
              "    <tr>\n",
              "      <th>1</th>\n",
              "      <td>UK</td>\n",
              "      <td>21</td>\n",
              "      <td>1</td>\n",
              "      <td>Ads</td>\n",
              "      <td>3</td>\n",
              "      <td>0</td>\n",
              "    </tr>\n",
              "    <tr>\n",
              "      <th>2</th>\n",
              "      <td>Germany</td>\n",
              "      <td>20</td>\n",
              "      <td>0</td>\n",
              "      <td>Seo</td>\n",
              "      <td>14</td>\n",
              "      <td>1</td>\n",
              "    </tr>\n",
              "    <tr>\n",
              "      <th>3</th>\n",
              "      <td>US</td>\n",
              "      <td>23</td>\n",
              "      <td>1</td>\n",
              "      <td>Seo</td>\n",
              "      <td>3</td>\n",
              "      <td>0</td>\n",
              "    </tr>\n",
              "    <tr>\n",
              "      <th>4</th>\n",
              "      <td>US</td>\n",
              "      <td>28</td>\n",
              "      <td>1</td>\n",
              "      <td>Direct</td>\n",
              "      <td>3</td>\n",
              "      <td>0</td>\n",
              "    </tr>\n",
              "  </tbody>\n",
              "</table>\n",
              "</div>\n",
              "      <button class=\"colab-df-convert\" onclick=\"convertToInteractive('df-0d423b30-2780-4507-85cc-7d1c57ec6124')\"\n",
              "              title=\"Convert this dataframe to an interactive table.\"\n",
              "              style=\"display:none;\">\n",
              "        \n",
              "  <svg xmlns=\"http://www.w3.org/2000/svg\" height=\"24px\"viewBox=\"0 0 24 24\"\n",
              "       width=\"24px\">\n",
              "    <path d=\"M0 0h24v24H0V0z\" fill=\"none\"/>\n",
              "    <path d=\"M18.56 5.44l.94 2.06.94-2.06 2.06-.94-2.06-.94-.94-2.06-.94 2.06-2.06.94zm-11 1L8.5 8.5l.94-2.06 2.06-.94-2.06-.94L8.5 2.5l-.94 2.06-2.06.94zm10 10l.94 2.06.94-2.06 2.06-.94-2.06-.94-.94-2.06-.94 2.06-2.06.94z\"/><path d=\"M17.41 7.96l-1.37-1.37c-.4-.4-.92-.59-1.43-.59-.52 0-1.04.2-1.43.59L10.3 9.45l-7.72 7.72c-.78.78-.78 2.05 0 2.83L4 21.41c.39.39.9.59 1.41.59.51 0 1.02-.2 1.41-.59l7.78-7.78 2.81-2.81c.8-.78.8-2.07 0-2.86zM5.41 20L4 18.59l7.72-7.72 1.47 1.35L5.41 20z\"/>\n",
              "  </svg>\n",
              "      </button>\n",
              "      \n",
              "  <style>\n",
              "    .colab-df-container {\n",
              "      display:flex;\n",
              "      flex-wrap:wrap;\n",
              "      gap: 12px;\n",
              "    }\n",
              "\n",
              "    .colab-df-convert {\n",
              "      background-color: #E8F0FE;\n",
              "      border: none;\n",
              "      border-radius: 50%;\n",
              "      cursor: pointer;\n",
              "      display: none;\n",
              "      fill: #1967D2;\n",
              "      height: 32px;\n",
              "      padding: 0 0 0 0;\n",
              "      width: 32px;\n",
              "    }\n",
              "\n",
              "    .colab-df-convert:hover {\n",
              "      background-color: #E2EBFA;\n",
              "      box-shadow: 0px 1px 2px rgba(60, 64, 67, 0.3), 0px 1px 3px 1px rgba(60, 64, 67, 0.15);\n",
              "      fill: #174EA6;\n",
              "    }\n",
              "\n",
              "    [theme=dark] .colab-df-convert {\n",
              "      background-color: #3B4455;\n",
              "      fill: #D2E3FC;\n",
              "    }\n",
              "\n",
              "    [theme=dark] .colab-df-convert:hover {\n",
              "      background-color: #434B5C;\n",
              "      box-shadow: 0px 1px 3px 1px rgba(0, 0, 0, 0.15);\n",
              "      filter: drop-shadow(0px 1px 2px rgba(0, 0, 0, 0.3));\n",
              "      fill: #FFFFFF;\n",
              "    }\n",
              "  </style>\n",
              "\n",
              "      <script>\n",
              "        const buttonEl =\n",
              "          document.querySelector('#df-0d423b30-2780-4507-85cc-7d1c57ec6124 button.colab-df-convert');\n",
              "        buttonEl.style.display =\n",
              "          google.colab.kernel.accessAllowed ? 'block' : 'none';\n",
              "\n",
              "        async function convertToInteractive(key) {\n",
              "          const element = document.querySelector('#df-0d423b30-2780-4507-85cc-7d1c57ec6124');\n",
              "          const dataTable =\n",
              "            await google.colab.kernel.invokeFunction('convertToInteractive',\n",
              "                                                     [key], {});\n",
              "          if (!dataTable) return;\n",
              "\n",
              "          const docLinkHtml = 'Like what you see? Visit the ' +\n",
              "            '<a target=\"_blank\" href=https://colab.research.google.com/notebooks/data_table.ipynb>data table notebook</a>'\n",
              "            + ' to learn more about interactive tables.';\n",
              "          element.innerHTML = '';\n",
              "          dataTable['output_type'] = 'display_data';\n",
              "          await google.colab.output.renderOutput(dataTable, element);\n",
              "          const docLink = document.createElement('div');\n",
              "          docLink.innerHTML = docLinkHtml;\n",
              "          element.appendChild(docLink);\n",
              "        }\n",
              "      </script>\n",
              "    </div>\n",
              "  </div>\n",
              "  "
            ]
          },
          "metadata": {},
          "execution_count": 86
        }
      ],
      "source": [
        "data.head()"
      ]
    },
    {
      "cell_type": "code",
      "execution_count": 87,
      "id": "a23284c9-9484-4eba-9674-ae9fc09350b7",
      "metadata": {
        "id": "a23284c9-9484-4eba-9674-ae9fc09350b7"
      },
      "outputs": [],
      "source": [
        "data_sample = data.sample(10000)"
      ]
    },
    {
      "cell_type": "code",
      "execution_count": 88,
      "id": "f0e0917e-718e-4783-b2bc-8f23f3c411bf",
      "metadata": {
        "id": "f0e0917e-718e-4783-b2bc-8f23f3c411bf",
        "colab": {
          "base_uri": "https://localhost:8080/",
          "height": 626
        },
        "outputId": "8a98944b-311a-423e-f7b1-58850613be90"
      },
      "outputs": [
        {
          "output_type": "stream",
          "name": "stdout",
          "text": [
            "Number of rows : 284580\n",
            "Number of columns : 6\n",
            "\n",
            "Basics statistics: \n"
          ]
        },
        {
          "output_type": "display_data",
          "data": {
            "text/plain": [
              "       country            age       new_user  source  total_pages_visited  \\\n",
              "count   284580  284580.000000  284580.000000  284580        284580.000000   \n",
              "unique       4            NaN            NaN       3                  NaN   \n",
              "top         US            NaN            NaN     Seo                  NaN   \n",
              "freq    160124            NaN            NaN  139477                  NaN   \n",
              "mean       NaN      30.564203       0.685452     NaN             4.873252   \n",
              "std        NaN       8.266789       0.464336     NaN             3.341995   \n",
              "min        NaN      17.000000       0.000000     NaN             1.000000   \n",
              "25%        NaN      24.000000       0.000000     NaN             2.000000   \n",
              "50%        NaN      30.000000       1.000000     NaN             4.000000   \n",
              "75%        NaN      36.000000       1.000000     NaN             7.000000   \n",
              "max        NaN     123.000000       1.000000     NaN            29.000000   \n",
              "\n",
              "            converted  \n",
              "count   284580.000000  \n",
              "unique            NaN  \n",
              "top               NaN  \n",
              "freq              NaN  \n",
              "mean         0.032258  \n",
              "std          0.176685  \n",
              "min          0.000000  \n",
              "25%          0.000000  \n",
              "50%          0.000000  \n",
              "75%          0.000000  \n",
              "max          1.000000  "
            ],
            "text/html": [
              "\n",
              "  <div id=\"df-9125bbe2-1d89-412f-b554-d88da23455ac\">\n",
              "    <div class=\"colab-df-container\">\n",
              "      <div>\n",
              "<style scoped>\n",
              "    .dataframe tbody tr th:only-of-type {\n",
              "        vertical-align: middle;\n",
              "    }\n",
              "\n",
              "    .dataframe tbody tr th {\n",
              "        vertical-align: top;\n",
              "    }\n",
              "\n",
              "    .dataframe thead th {\n",
              "        text-align: right;\n",
              "    }\n",
              "</style>\n",
              "<table border=\"1\" class=\"dataframe\">\n",
              "  <thead>\n",
              "    <tr style=\"text-align: right;\">\n",
              "      <th></th>\n",
              "      <th>country</th>\n",
              "      <th>age</th>\n",
              "      <th>new_user</th>\n",
              "      <th>source</th>\n",
              "      <th>total_pages_visited</th>\n",
              "      <th>converted</th>\n",
              "    </tr>\n",
              "  </thead>\n",
              "  <tbody>\n",
              "    <tr>\n",
              "      <th>count</th>\n",
              "      <td>284580</td>\n",
              "      <td>284580.000000</td>\n",
              "      <td>284580.000000</td>\n",
              "      <td>284580</td>\n",
              "      <td>284580.000000</td>\n",
              "      <td>284580.000000</td>\n",
              "    </tr>\n",
              "    <tr>\n",
              "      <th>unique</th>\n",
              "      <td>4</td>\n",
              "      <td>NaN</td>\n",
              "      <td>NaN</td>\n",
              "      <td>3</td>\n",
              "      <td>NaN</td>\n",
              "      <td>NaN</td>\n",
              "    </tr>\n",
              "    <tr>\n",
              "      <th>top</th>\n",
              "      <td>US</td>\n",
              "      <td>NaN</td>\n",
              "      <td>NaN</td>\n",
              "      <td>Seo</td>\n",
              "      <td>NaN</td>\n",
              "      <td>NaN</td>\n",
              "    </tr>\n",
              "    <tr>\n",
              "      <th>freq</th>\n",
              "      <td>160124</td>\n",
              "      <td>NaN</td>\n",
              "      <td>NaN</td>\n",
              "      <td>139477</td>\n",
              "      <td>NaN</td>\n",
              "      <td>NaN</td>\n",
              "    </tr>\n",
              "    <tr>\n",
              "      <th>mean</th>\n",
              "      <td>NaN</td>\n",
              "      <td>30.564203</td>\n",
              "      <td>0.685452</td>\n",
              "      <td>NaN</td>\n",
              "      <td>4.873252</td>\n",
              "      <td>0.032258</td>\n",
              "    </tr>\n",
              "    <tr>\n",
              "      <th>std</th>\n",
              "      <td>NaN</td>\n",
              "      <td>8.266789</td>\n",
              "      <td>0.464336</td>\n",
              "      <td>NaN</td>\n",
              "      <td>3.341995</td>\n",
              "      <td>0.176685</td>\n",
              "    </tr>\n",
              "    <tr>\n",
              "      <th>min</th>\n",
              "      <td>NaN</td>\n",
              "      <td>17.000000</td>\n",
              "      <td>0.000000</td>\n",
              "      <td>NaN</td>\n",
              "      <td>1.000000</td>\n",
              "      <td>0.000000</td>\n",
              "    </tr>\n",
              "    <tr>\n",
              "      <th>25%</th>\n",
              "      <td>NaN</td>\n",
              "      <td>24.000000</td>\n",
              "      <td>0.000000</td>\n",
              "      <td>NaN</td>\n",
              "      <td>2.000000</td>\n",
              "      <td>0.000000</td>\n",
              "    </tr>\n",
              "    <tr>\n",
              "      <th>50%</th>\n",
              "      <td>NaN</td>\n",
              "      <td>30.000000</td>\n",
              "      <td>1.000000</td>\n",
              "      <td>NaN</td>\n",
              "      <td>4.000000</td>\n",
              "      <td>0.000000</td>\n",
              "    </tr>\n",
              "    <tr>\n",
              "      <th>75%</th>\n",
              "      <td>NaN</td>\n",
              "      <td>36.000000</td>\n",
              "      <td>1.000000</td>\n",
              "      <td>NaN</td>\n",
              "      <td>7.000000</td>\n",
              "      <td>0.000000</td>\n",
              "    </tr>\n",
              "    <tr>\n",
              "      <th>max</th>\n",
              "      <td>NaN</td>\n",
              "      <td>123.000000</td>\n",
              "      <td>1.000000</td>\n",
              "      <td>NaN</td>\n",
              "      <td>29.000000</td>\n",
              "      <td>1.000000</td>\n",
              "    </tr>\n",
              "  </tbody>\n",
              "</table>\n",
              "</div>\n",
              "      <button class=\"colab-df-convert\" onclick=\"convertToInteractive('df-9125bbe2-1d89-412f-b554-d88da23455ac')\"\n",
              "              title=\"Convert this dataframe to an interactive table.\"\n",
              "              style=\"display:none;\">\n",
              "        \n",
              "  <svg xmlns=\"http://www.w3.org/2000/svg\" height=\"24px\"viewBox=\"0 0 24 24\"\n",
              "       width=\"24px\">\n",
              "    <path d=\"M0 0h24v24H0V0z\" fill=\"none\"/>\n",
              "    <path d=\"M18.56 5.44l.94 2.06.94-2.06 2.06-.94-2.06-.94-.94-2.06-.94 2.06-2.06.94zm-11 1L8.5 8.5l.94-2.06 2.06-.94-2.06-.94L8.5 2.5l-.94 2.06-2.06.94zm10 10l.94 2.06.94-2.06 2.06-.94-2.06-.94-.94-2.06-.94 2.06-2.06.94z\"/><path d=\"M17.41 7.96l-1.37-1.37c-.4-.4-.92-.59-1.43-.59-.52 0-1.04.2-1.43.59L10.3 9.45l-7.72 7.72c-.78.78-.78 2.05 0 2.83L4 21.41c.39.39.9.59 1.41.59.51 0 1.02-.2 1.41-.59l7.78-7.78 2.81-2.81c.8-.78.8-2.07 0-2.86zM5.41 20L4 18.59l7.72-7.72 1.47 1.35L5.41 20z\"/>\n",
              "  </svg>\n",
              "      </button>\n",
              "      \n",
              "  <style>\n",
              "    .colab-df-container {\n",
              "      display:flex;\n",
              "      flex-wrap:wrap;\n",
              "      gap: 12px;\n",
              "    }\n",
              "\n",
              "    .colab-df-convert {\n",
              "      background-color: #E8F0FE;\n",
              "      border: none;\n",
              "      border-radius: 50%;\n",
              "      cursor: pointer;\n",
              "      display: none;\n",
              "      fill: #1967D2;\n",
              "      height: 32px;\n",
              "      padding: 0 0 0 0;\n",
              "      width: 32px;\n",
              "    }\n",
              "\n",
              "    .colab-df-convert:hover {\n",
              "      background-color: #E2EBFA;\n",
              "      box-shadow: 0px 1px 2px rgba(60, 64, 67, 0.3), 0px 1px 3px 1px rgba(60, 64, 67, 0.15);\n",
              "      fill: #174EA6;\n",
              "    }\n",
              "\n",
              "    [theme=dark] .colab-df-convert {\n",
              "      background-color: #3B4455;\n",
              "      fill: #D2E3FC;\n",
              "    }\n",
              "\n",
              "    [theme=dark] .colab-df-convert:hover {\n",
              "      background-color: #434B5C;\n",
              "      box-shadow: 0px 1px 3px 1px rgba(0, 0, 0, 0.15);\n",
              "      filter: drop-shadow(0px 1px 2px rgba(0, 0, 0, 0.3));\n",
              "      fill: #FFFFFF;\n",
              "    }\n",
              "  </style>\n",
              "\n",
              "      <script>\n",
              "        const buttonEl =\n",
              "          document.querySelector('#df-9125bbe2-1d89-412f-b554-d88da23455ac button.colab-df-convert');\n",
              "        buttonEl.style.display =\n",
              "          google.colab.kernel.accessAllowed ? 'block' : 'none';\n",
              "\n",
              "        async function convertToInteractive(key) {\n",
              "          const element = document.querySelector('#df-9125bbe2-1d89-412f-b554-d88da23455ac');\n",
              "          const dataTable =\n",
              "            await google.colab.kernel.invokeFunction('convertToInteractive',\n",
              "                                                     [key], {});\n",
              "          if (!dataTable) return;\n",
              "\n",
              "          const docLinkHtml = 'Like what you see? Visit the ' +\n",
              "            '<a target=\"_blank\" href=https://colab.research.google.com/notebooks/data_table.ipynb>data table notebook</a>'\n",
              "            + ' to learn more about interactive tables.';\n",
              "          element.innerHTML = '';\n",
              "          dataTable['output_type'] = 'display_data';\n",
              "          await google.colab.output.renderOutput(dataTable, element);\n",
              "          const docLink = document.createElement('div');\n",
              "          docLink.innerHTML = docLinkHtml;\n",
              "          element.appendChild(docLink);\n",
              "        }\n",
              "      </script>\n",
              "    </div>\n",
              "  </div>\n",
              "  "
            ]
          },
          "metadata": {}
        },
        {
          "output_type": "stream",
          "name": "stdout",
          "text": [
            "\n",
            "Percentage of missing values: \n"
          ]
        },
        {
          "output_type": "display_data",
          "data": {
            "text/plain": [
              "country                0.0\n",
              "age                    0.0\n",
              "new_user               0.0\n",
              "source                 0.0\n",
              "total_pages_visited    0.0\n",
              "converted              0.0\n",
              "dtype: float64"
            ]
          },
          "metadata": {}
        }
      ],
      "source": [
        "# Basic stats\n",
        "print(\"Number of rows : {}\".format(data.shape[0]))\n",
        "print(\"Number of columns : {}\".format(data.shape[1]))\n",
        "print()\n",
        "\n",
        "print(\"Basics statistics: \")\n",
        "data_desc = data.describe(include='all')\n",
        "display(data_desc)\n",
        "print()\n",
        "\n",
        "print(\"Percentage of missing values: \")\n",
        "display(100*data.isnull().sum()/data.shape[0])"
      ]
    },
    {
      "cell_type": "code",
      "execution_count": 89,
      "id": "9ed4c208-9634-4e13-9fb7-cd96f85b192d",
      "metadata": {
        "id": "9ed4c208-9634-4e13-9fb7-cd96f85b192d"
      },
      "outputs": [],
      "source": [
        "numeric_features = ['total_pages_visited', 'age']\n",
        "categorical_features = ['country', 'new_user','source' ] # Names of categorical columns in X_train/X_test\n",
        "target_variable = 'converted'"
      ]
    },
    {
      "cell_type": "code",
      "execution_count": 90,
      "id": "34e22a9b-858c-456f-9697-da0d5205a8e7",
      "metadata": {
        "id": "34e22a9b-858c-456f-9697-da0d5205a8e7",
        "colab": {
          "base_uri": "https://localhost:8080/",
          "height": 420
        },
        "outputId": "6b7321c2-4d76-4ff1-8a4d-e31c8adf6422"
      },
      "outputs": [
        {
          "output_type": "stream",
          "name": "stdout",
          "text": [
            "Separating labels from features...\n",
            "...Done.\n",
            "\n",
            "Y : \n",
            "0    0\n",
            "1    0\n",
            "2    1\n",
            "3    0\n",
            "4    0\n",
            "Name: converted, dtype: int64\n",
            "\n",
            "X :\n"
          ]
        },
        {
          "output_type": "execute_result",
          "data": {
            "text/plain": [
              "   country  age  new_user  source  total_pages_visited\n",
              "0    China   22         1  Direct                    2\n",
              "1       UK   21         1     Ads                    3\n",
              "2  Germany   20         0     Seo                   14\n",
              "3       US   23         1     Seo                    3\n",
              "4       US   28         1  Direct                    3"
            ],
            "text/html": [
              "\n",
              "  <div id=\"df-455337eb-27ce-4c18-b15c-9dd93a9a0878\">\n",
              "    <div class=\"colab-df-container\">\n",
              "      <div>\n",
              "<style scoped>\n",
              "    .dataframe tbody tr th:only-of-type {\n",
              "        vertical-align: middle;\n",
              "    }\n",
              "\n",
              "    .dataframe tbody tr th {\n",
              "        vertical-align: top;\n",
              "    }\n",
              "\n",
              "    .dataframe thead th {\n",
              "        text-align: right;\n",
              "    }\n",
              "</style>\n",
              "<table border=\"1\" class=\"dataframe\">\n",
              "  <thead>\n",
              "    <tr style=\"text-align: right;\">\n",
              "      <th></th>\n",
              "      <th>country</th>\n",
              "      <th>age</th>\n",
              "      <th>new_user</th>\n",
              "      <th>source</th>\n",
              "      <th>total_pages_visited</th>\n",
              "    </tr>\n",
              "  </thead>\n",
              "  <tbody>\n",
              "    <tr>\n",
              "      <th>0</th>\n",
              "      <td>China</td>\n",
              "      <td>22</td>\n",
              "      <td>1</td>\n",
              "      <td>Direct</td>\n",
              "      <td>2</td>\n",
              "    </tr>\n",
              "    <tr>\n",
              "      <th>1</th>\n",
              "      <td>UK</td>\n",
              "      <td>21</td>\n",
              "      <td>1</td>\n",
              "      <td>Ads</td>\n",
              "      <td>3</td>\n",
              "    </tr>\n",
              "    <tr>\n",
              "      <th>2</th>\n",
              "      <td>Germany</td>\n",
              "      <td>20</td>\n",
              "      <td>0</td>\n",
              "      <td>Seo</td>\n",
              "      <td>14</td>\n",
              "    </tr>\n",
              "    <tr>\n",
              "      <th>3</th>\n",
              "      <td>US</td>\n",
              "      <td>23</td>\n",
              "      <td>1</td>\n",
              "      <td>Seo</td>\n",
              "      <td>3</td>\n",
              "    </tr>\n",
              "    <tr>\n",
              "      <th>4</th>\n",
              "      <td>US</td>\n",
              "      <td>28</td>\n",
              "      <td>1</td>\n",
              "      <td>Direct</td>\n",
              "      <td>3</td>\n",
              "    </tr>\n",
              "  </tbody>\n",
              "</table>\n",
              "</div>\n",
              "      <button class=\"colab-df-convert\" onclick=\"convertToInteractive('df-455337eb-27ce-4c18-b15c-9dd93a9a0878')\"\n",
              "              title=\"Convert this dataframe to an interactive table.\"\n",
              "              style=\"display:none;\">\n",
              "        \n",
              "  <svg xmlns=\"http://www.w3.org/2000/svg\" height=\"24px\"viewBox=\"0 0 24 24\"\n",
              "       width=\"24px\">\n",
              "    <path d=\"M0 0h24v24H0V0z\" fill=\"none\"/>\n",
              "    <path d=\"M18.56 5.44l.94 2.06.94-2.06 2.06-.94-2.06-.94-.94-2.06-.94 2.06-2.06.94zm-11 1L8.5 8.5l.94-2.06 2.06-.94-2.06-.94L8.5 2.5l-.94 2.06-2.06.94zm10 10l.94 2.06.94-2.06 2.06-.94-2.06-.94-.94-2.06-.94 2.06-2.06.94z\"/><path d=\"M17.41 7.96l-1.37-1.37c-.4-.4-.92-.59-1.43-.59-.52 0-1.04.2-1.43.59L10.3 9.45l-7.72 7.72c-.78.78-.78 2.05 0 2.83L4 21.41c.39.39.9.59 1.41.59.51 0 1.02-.2 1.41-.59l7.78-7.78 2.81-2.81c.8-.78.8-2.07 0-2.86zM5.41 20L4 18.59l7.72-7.72 1.47 1.35L5.41 20z\"/>\n",
              "  </svg>\n",
              "      </button>\n",
              "      \n",
              "  <style>\n",
              "    .colab-df-container {\n",
              "      display:flex;\n",
              "      flex-wrap:wrap;\n",
              "      gap: 12px;\n",
              "    }\n",
              "\n",
              "    .colab-df-convert {\n",
              "      background-color: #E8F0FE;\n",
              "      border: none;\n",
              "      border-radius: 50%;\n",
              "      cursor: pointer;\n",
              "      display: none;\n",
              "      fill: #1967D2;\n",
              "      height: 32px;\n",
              "      padding: 0 0 0 0;\n",
              "      width: 32px;\n",
              "    }\n",
              "\n",
              "    .colab-df-convert:hover {\n",
              "      background-color: #E2EBFA;\n",
              "      box-shadow: 0px 1px 2px rgba(60, 64, 67, 0.3), 0px 1px 3px 1px rgba(60, 64, 67, 0.15);\n",
              "      fill: #174EA6;\n",
              "    }\n",
              "\n",
              "    [theme=dark] .colab-df-convert {\n",
              "      background-color: #3B4455;\n",
              "      fill: #D2E3FC;\n",
              "    }\n",
              "\n",
              "    [theme=dark] .colab-df-convert:hover {\n",
              "      background-color: #434B5C;\n",
              "      box-shadow: 0px 1px 3px 1px rgba(0, 0, 0, 0.15);\n",
              "      filter: drop-shadow(0px 1px 2px rgba(0, 0, 0, 0.3));\n",
              "      fill: #FFFFFF;\n",
              "    }\n",
              "  </style>\n",
              "\n",
              "      <script>\n",
              "        const buttonEl =\n",
              "          document.querySelector('#df-455337eb-27ce-4c18-b15c-9dd93a9a0878 button.colab-df-convert');\n",
              "        buttonEl.style.display =\n",
              "          google.colab.kernel.accessAllowed ? 'block' : 'none';\n",
              "\n",
              "        async function convertToInteractive(key) {\n",
              "          const element = document.querySelector('#df-455337eb-27ce-4c18-b15c-9dd93a9a0878');\n",
              "          const dataTable =\n",
              "            await google.colab.kernel.invokeFunction('convertToInteractive',\n",
              "                                                     [key], {});\n",
              "          if (!dataTable) return;\n",
              "\n",
              "          const docLinkHtml = 'Like what you see? Visit the ' +\n",
              "            '<a target=\"_blank\" href=https://colab.research.google.com/notebooks/data_table.ipynb>data table notebook</a>'\n",
              "            + ' to learn more about interactive tables.';\n",
              "          element.innerHTML = '';\n",
              "          dataTable['output_type'] = 'display_data';\n",
              "          await google.colab.output.renderOutput(dataTable, element);\n",
              "          const docLink = document.createElement('div');\n",
              "          docLink.innerHTML = docLinkHtml;\n",
              "          element.appendChild(docLink);\n",
              "        }\n",
              "      </script>\n",
              "    </div>\n",
              "  </div>\n",
              "  "
            ]
          },
          "metadata": {},
          "execution_count": 90
        }
      ],
      "source": [
        "# Separate target variable Y from features X\n",
        "print(\"Separating labels from features...\")\n",
        "\n",
        "X = data.drop(target_variable, axis = 1)\n",
        "Y = data.loc[:,target_variable]\n",
        "\n",
        "print(\"...Done.\")\n",
        "print()\n",
        "\n",
        "print('Y : ')\n",
        "print(Y.head())\n",
        "print()\n",
        "print('X :')\n",
        "X.head()"
      ]
    },
    {
      "cell_type": "code",
      "execution_count": 91,
      "id": "178c0c71-b1c1-44c7-8317-64273ab0c1bf",
      "metadata": {
        "id": "178c0c71-b1c1-44c7-8317-64273ab0c1bf",
        "colab": {
          "base_uri": "https://localhost:8080/"
        },
        "outputId": "b040ebf8-79d0-4a62-b262-b40a4f0fbb16"
      },
      "outputs": [
        {
          "output_type": "stream",
          "name": "stdout",
          "text": [
            "Dividing into train and test sets...\n",
            "...Done.\n",
            "\n"
          ]
        }
      ],
      "source": [
        "# Divide dataset Train set & Test set \n",
        "print(\"Dividing into train and test sets...\")\n",
        "X_train, X_test, Y_train, Y_test = train_test_split(X, Y, test_size=0.1, random_state=0, stratify = Y)\n",
        "print(\"...Done.\")\n",
        "print()"
      ]
    },
    {
      "cell_type": "code",
      "execution_count": 92,
      "id": "14cc381b-d959-492d-840e-bbd7fccccd0b",
      "metadata": {
        "id": "14cc381b-d959-492d-840e-bbd7fccccd0b"
      },
      "outputs": [],
      "source": [
        "#Preprocessings to be planned with scikit-learn\n",
        "#Categorical variables : Store, Holiday_Flag\n",
        "from sklearn.preprocessing import OneHotEncoder\n",
        "\n",
        "categorical_transformer = Pipeline(\n",
        "    steps=[\n",
        "    ('encoder', OneHotEncoder(drop='first'))# missing values will be replaced by most frequent value\n",
        "    ])\n",
        "#Numerical variables : Temperature, Fuel_Price, CPI, Unemployment, Year, Month, Day, DayOfWeek\n",
        "# Create pipeline for numeric features\n",
        "numeric_transformer = Pipeline(steps=[\n",
        "    ('imputer', SimpleImputer(strategy='mean')), # missing values in Age will be replaced by columns' mean\n",
        "    ('scaler', StandardScaler())\n",
        "])"
      ]
    },
    {
      "cell_type": "code",
      "execution_count": 93,
      "id": "4869dbf2-f4fa-4818-be7e-34525aeb47c9",
      "metadata": {
        "id": "4869dbf2-f4fa-4818-be7e-34525aeb47c9",
        "colab": {
          "base_uri": "https://localhost:8080/"
        },
        "outputId": "aaa7a11a-a18a-485f-ad9a-7f2408bd89d2"
      },
      "outputs": [
        {
          "output_type": "stream",
          "name": "stdout",
          "text": [
            "Performing preprocessings on train set...\n",
            "       country  age  new_user  source  total_pages_visited\n",
            "178877   China   23         0  Direct                    2\n",
            "215523   China   28         0     Ads                    2\n",
            "73318    China   30         1     Seo                    7\n",
            "58164       UK   37         1     Seo                    3\n",
            "234640      US   31         1     Ads                    8\n",
            "...Done.\n",
            "[[-0.85939501 -0.91458053  0.          0.          0.          0.\n",
            "   1.          0.        ]\n",
            " [-0.85939501 -0.30994956  0.          0.          0.          0.\n",
            "   0.          0.        ]\n",
            " [ 0.63639894 -0.06809718  0.          0.          0.          1.\n",
            "   0.          1.        ]\n",
            " [-0.56023622  0.77838618  0.          1.          0.          1.\n",
            "   0.          1.        ]\n",
            " [ 0.93555773  0.05282902  0.          0.          1.          1.\n",
            "   0.          0.        ]]\n",
            "\n",
            "Performing preprocessings on test set...\n",
            "       country  age  new_user  source  total_pages_visited\n",
            "269237   China   24         1     Ads                   14\n",
            "23327       US   35         0  Direct                    5\n",
            "278731      US   29         0  Direct                    4\n",
            "195485   China   31         1     Seo                    8\n",
            "267995      US   28         1     Seo                    2\n",
            "...Done.\n",
            "[[ 2.73051047 -0.79365434  0.          0.          0.          1.\n",
            "   0.          0.        ]\n",
            " [ 0.03808136  0.53653379  0.          0.          1.          0.\n",
            "   1.          0.        ]\n",
            " [-0.26107743 -0.18902337  0.          0.          1.          0.\n",
            "   1.          0.        ]\n",
            " [ 0.93555773  0.05282902  0.          0.          0.          1.\n",
            "   0.          1.        ]\n",
            " [-0.85939501 -0.30994956  0.          0.          1.          1.\n",
            "   0.          1.        ]]\n",
            "[[ 2.73051047 -0.79365434  0.         ...  1.          0.\n",
            "   0.        ]\n",
            " [ 0.03808136  0.53653379  0.         ...  0.          1.\n",
            "   0.        ]\n",
            " [-0.26107743 -0.18902337  0.         ...  0.          1.\n",
            "   0.        ]\n",
            " ...\n",
            " [ 0.63639894 -0.55180195  0.         ...  0.          0.\n",
            "   1.        ]\n",
            " [-0.85939501 -0.30994956  0.         ...  1.          1.\n",
            "   0.        ]\n",
            " [ 0.63639894 -0.30994956  0.         ...  1.          0.\n",
            "   1.        ]]\n"
          ]
        }
      ],
      "source": [
        "# Use ColumnTranformer to make a preprocessor object that describes all the treatments to be done\n",
        "preprocessor = ColumnTransformer(\n",
        "    transformers=[\n",
        "        ('num', numeric_transformer, numeric_features),\n",
        "        ('cat', categorical_transformer, categorical_features)\n",
        "    ])\n",
        "\n",
        "# Preprocessings on train set\n",
        "print(\"Performing preprocessings on train set...\")\n",
        "print(X_train.head())\n",
        "X_train = preprocessor.fit_transform(X_train)\n",
        "print('...Done.')\n",
        "print(X_train[0:5,:])\n",
        "print()\n",
        "\n",
        "# Preprocessings on test set\n",
        "print(\"Performing preprocessings on test set...\")\n",
        "print(X_test.head())\n",
        "X_test = preprocessor.transform(X_test) \n",
        "print('...Done.')\n",
        "print(X_test[0:5,:])\n",
        "print(X_test)"
      ]
    },
    {
      "cell_type": "code",
      "execution_count": 94,
      "id": "c5738700-4754-458e-a3e8-2c508cee5f3e",
      "metadata": {
        "id": "c5738700-4754-458e-a3e8-2c508cee5f3e",
        "colab": {
          "base_uri": "https://localhost:8080/"
        },
        "outputId": "75f9c8f6-c175-45b0-9630-3d9c9e72658f"
      },
      "outputs": [
        {
          "output_type": "stream",
          "name": "stdout",
          "text": [
            "Grid search...\n",
            "...Done.\n",
            "Best hyperparameters :  {'max_depth': 10, 'min_samples_leaf': 5, 'min_samples_split': 2}\n",
            "Best validation accuracy :  0.9852921638634488\n"
          ]
        }
      ],
      "source": [
        "# Perform grid search\n",
        "print(\"Grid search...\")\n",
        "classifier = DecisionTreeClassifier()\n",
        "\n",
        "# Grid of values to be tested\n",
        "params = {\n",
        "    'max_depth': [4, 6, 8, 10],\n",
        "    'min_samples_leaf': [1, 2, 5],\n",
        "    'min_samples_split': [2, 4, 8]\n",
        "}\n",
        "gridsearch = GridSearchCV(classifier, param_grid = params, cv = 10) # cv : the number of folds to be used for CV\n",
        "gridsearch.fit(X_train, Y_train)\n",
        "print(\"...Done.\")\n",
        "print(\"Best hyperparameters : \", gridsearch.best_params_)\n",
        "print(\"Best validation accuracy : \", gridsearch.best_score_)"
      ]
    },
    {
      "cell_type": "code",
      "execution_count": 95,
      "id": "1c01b56f-8764-4eda-bb18-cf69485e87c4",
      "metadata": {
        "id": "1c01b56f-8764-4eda-bb18-cf69485e87c4",
        "colab": {
          "base_uri": "https://localhost:8080/"
        },
        "outputId": "35ba9a27-d6e9-487f-b546-993d3e5114b7"
      },
      "outputs": [
        {
          "output_type": "stream",
          "name": "stdout",
          "text": [
            "Predictions on training set...\n",
            "...Done.\n",
            "[0 0 0 ... 0 0 0]\n",
            "\n",
            "Probabilities on training set...\n",
            "...Done.\n",
            "[[9.99260081e-01 7.39918609e-04]\n",
            " [9.99260081e-01 7.39918609e-04]\n",
            " [9.99855908e-01 1.44092219e-04]\n",
            " ...\n",
            " [1.00000000e+00 0.00000000e+00]\n",
            " [9.26553672e-01 7.34463277e-02]\n",
            " [9.97963340e-01 2.03665988e-03]]\n",
            "\n"
          ]
        }
      ],
      "source": [
        "# Predictions on training set\n",
        "print(\"Predictions on training set...\")\n",
        "Y_train_pred = gridsearch.predict(X_train)\n",
        "print(\"...Done.\")\n",
        "print(Y_train_pred)\n",
        "print()\n",
        "\n",
        "# It's also possible to get the probabilities estimated by the model:\n",
        "print(\"Probabilities on training set...\")\n",
        "Y_train_proba = gridsearch.predict_proba(X_train)\n",
        "print(\"...Done.\")\n",
        "print(Y_train_proba)\n",
        "print()"
      ]
    },
    {
      "cell_type": "code",
      "execution_count": 96,
      "id": "1f2b7936-03ed-42a8-808d-680bfb258f81",
      "metadata": {
        "id": "1f2b7936-03ed-42a8-808d-680bfb258f81",
        "colab": {
          "base_uri": "https://localhost:8080/"
        },
        "outputId": "008201a1-4e22-4ff2-dd7a-207addf6674c"
      },
      "outputs": [
        {
          "output_type": "stream",
          "name": "stdout",
          "text": [
            "Predictions on test set...\n",
            "...Done.\n",
            "[0 0 0 ... 0 0 0]\n",
            "\n",
            "Probabilities on test set...\n",
            "...Done.\n",
            "[[1.         0.        ]\n",
            " [0.99800029 0.00199971]\n",
            " [0.99800029 0.00199971]\n",
            " ...\n",
            " [0.99441341 0.00558659]\n",
            " [1.         0.        ]\n",
            " [0.99649696 0.00350304]]\n",
            "\n"
          ]
        }
      ],
      "source": [
        "# Predictions on test set\n",
        "print(\"Predictions on test set...\")\n",
        "Y_test_pred = gridsearch.predict(X_test)\n",
        "print(\"...Done.\")\n",
        "print(Y_test_pred)\n",
        "print()\n",
        "\n",
        "# It's also possible to get the probabilities estimated by the model:\n",
        "print(\"Probabilities on test set...\")\n",
        "Y_test_proba = gridsearch.predict_proba(X_test)\n",
        "print(\"...Done.\")\n",
        "print(Y_test_proba)\n",
        "print()"
      ]
    },
    {
      "cell_type": "code",
      "execution_count": 97,
      "id": "1b3e3320-456d-44aa-aaf3-13f0e6ddb1a9",
      "metadata": {
        "id": "1b3e3320-456d-44aa-aaf3-13f0e6ddb1a9",
        "colab": {
          "base_uri": "https://localhost:8080/"
        },
        "outputId": "61d6da5c-3146-40d4-b715-c1044a1203c2"
      },
      "outputs": [
        {
          "output_type": "stream",
          "name": "stdout",
          "text": [
            "f1-score on training set :  0.7729046145567066\n",
            "f1-score on test set :  0.7437916414294368\n",
            "\n"
          ]
        }
      ],
      "source": [
        "\n",
        "print(\"f1-score on training set : \", f1_score(Y_train, Y_train_pred))\n",
        "print(\"f1-score on test set : \", f1_score(Y_test, Y_test_pred))\n",
        "print()"
      ]
    },
    {
      "cell_type": "code",
      "execution_count": 98,
      "id": "8e99def3-6ce4-46a6-8f2f-63f9aa9f2430",
      "metadata": {
        "id": "8e99def3-6ce4-46a6-8f2f-63f9aa9f2430",
        "colab": {
          "base_uri": "https://localhost:8080/",
          "height": 573
        },
        "outputId": "bfe75cc8-8cdf-4f4d-b974-e953ba1845dc"
      },
      "outputs": [
        {
          "output_type": "display_data",
          "data": {
            "text/plain": [
              "<Figure size 432x288 with 2 Axes>"
            ],
            "image/png": "[encoded data removed]"
          },
          "metadata": {
            "needs_background": "light"
          }
        },
        {
          "output_type": "display_data",
          "data": {
            "text/plain": [
              "<Figure size 432x288 with 2 Axes>"
            ],
            "image/png": "[encoded data removed]"
          },
          "metadata": {
            "needs_background": "light"
          }
        }
      ],
      "source": [
        "# Visualize confusion matrices\n",
        "import matplotlib.pyplot as plt\n",
        "from sklearn.metrics import accuracy_score, f1_score, ConfusionMatrixDisplay, RocCurveDisplay\n",
        "\n",
        "_ , ax = plt.subplots() # Get subplot from matplotlib\n",
        "ax.set(title=\"Confusion Matrix on Train set\") # Set a title that we will add into ConfusionMatrixDisplay\n",
        "ConfusionMatrixDisplay.from_estimator(gridsearch, X_train, Y_train, ax=ax) # ConfusionMatrixDisplay from sklearn\n",
        "plt.show()\n",
        "\n",
        "_ , ax = plt.subplots() # Get subplot from matplotlib\n",
        "ax.set(title=\"Confusion Matrix on Test set\") # Set a title that we will add into ConfusionMatrixDisplay\n",
        "ConfusionMatrixDisplay.from_estimator(gridsearch, X_test, Y_test, ax=ax) # ConfusionMatrixDisplay from sklearn\n",
        "plt.show()"
      ]
    },
    {
      "cell_type": "code",
      "execution_count": 99,
      "id": "cb8e741f-1c12-432c-af6c-9d3efc2b5534",
      "metadata": {
        "id": "cb8e741f-1c12-432c-af6c-9d3efc2b5534",
        "colab": {
          "base_uri": "https://localhost:8080/"
        },
        "outputId": "b83567d5-8836-47d8-ef89-dc07d7bab412"
      },
      "outputs": [
        {
          "output_type": "stream",
          "name": "stdout",
          "text": [
            "Grid search...\n",
            "...Done.\n",
            "Best hyperparameters :  {'max_depth': 10, 'min_samples_leaf': 5, 'min_samples_split': 2, 'n_estimators': 40}\n",
            "Best validation accuracy :  0.98599495607437\n"
          ]
        }
      ],
      "source": [
        "# Perform grid search\n",
        "print(\"Grid search...\")\n",
        "classifier = RandomForestClassifier()\n",
        "\n",
        "# Grid of values to be tested\n",
        "params = {\n",
        "    'max_depth': [10],\n",
        "    'min_samples_leaf': [5],\n",
        "    'min_samples_split': [2],\n",
        "    'n_estimators': [10, 20, 40]\n",
        "}\n",
        "gridsearch = GridSearchCV(classifier, param_grid = params, cv = 10, n_jobs = -1) # cv : the number of folds to be used for CV\n",
        "gridsearch.fit(X_train, Y_train)\n",
        "print(\"...Done.\")\n",
        "print(\"Best hyperparameters : \", gridsearch.best_params_)\n",
        "print(\"Best validation accuracy : \", gridsearch.best_score_)"
      ]
    },
    {
      "cell_type": "code",
      "execution_count": 100,
      "id": "df9fdeaa-673a-477b-8147-fb81a3dffc12",
      "metadata": {
        "id": "df9fdeaa-673a-477b-8147-fb81a3dffc12",
        "colab": {
          "base_uri": "https://localhost:8080/"
        },
        "outputId": "c59ca593-6c0c-4d99-a982-191b4cf35d1d"
      },
      "outputs": [
        {
          "output_type": "stream",
          "name": "stdout",
          "text": [
            "Predictions on training set...\n",
            "...Done.\n",
            "[0 0 0 ... 0 0 0]\n",
            "\n",
            "Probabilities on training set...\n",
            "...Done.\n",
            "[[9.99275137e-01 7.24862646e-04]\n",
            " [9.98746489e-01 1.25351077e-03]\n",
            " [9.99687033e-01 3.12966932e-04]\n",
            " ...\n",
            " [9.93865894e-01 6.13410582e-03]\n",
            " [9.42899471e-01 5.71005290e-02]\n",
            " [9.97719122e-01 2.28087775e-03]]\n",
            "\n"
          ]
        }
      ],
      "source": [
        "# Predictions on training set\n",
        "print(\"Predictions on training set...\")\n",
        "Y_train_pred = gridsearch.predict(X_train)\n",
        "print(\"...Done.\")\n",
        "print(Y_train_pred)\n",
        "print()\n",
        "\n",
        "# It's also possible to get the probabilities estimated by the model:\n",
        "print(\"Probabilities on training set...\")\n",
        "Y_train_proba = gridsearch.predict_proba(X_train)\n",
        "print(\"...Done.\")\n",
        "print(Y_train_proba)\n",
        "print()"
      ]
    },
    {
      "cell_type": "code",
      "execution_count": 101,
      "id": "4bf24980-21ec-4971-920f-553a4f52643f",
      "metadata": {
        "id": "4bf24980-21ec-4971-920f-553a4f52643f",
        "colab": {
          "base_uri": "https://localhost:8080/"
        },
        "outputId": "257bef16-9013-4782-da8c-2e32602e9c48"
      },
      "outputs": [
        {
          "output_type": "stream",
          "name": "stdout",
          "text": [
            "Predictions on test set...\n",
            "...Done.\n",
            "[0 0 0 ... 0 0 0]\n",
            "\n",
            "Probabilities on test set...\n",
            "...Done.\n",
            "[[0.89881366 0.10118634]\n",
            " [0.99555855 0.00444145]\n",
            " [0.99467927 0.00532073]\n",
            " ...\n",
            " [0.97303886 0.02696114]\n",
            " [0.99843636 0.00156364]\n",
            " [0.99745935 0.00254065]]\n",
            "\n"
          ]
        }
      ],
      "source": [
        "# Predictions on test set\n",
        "print(\"Predictions on test set...\")\n",
        "Y_test_pred = gridsearch.predict(X_test)\n",
        "print(\"...Done.\")\n",
        "print(Y_test_pred)\n",
        "print()\n",
        "\n",
        "# It's also possible to get the probabilities estimated by the model:\n",
        "print(\"Probabilities on test set...\")\n",
        "Y_test_proba = gridsearch.predict_proba(X_test)\n",
        "print(\"...Done.\")\n",
        "print(Y_test_proba)\n",
        "print()"
      ]
    },
    {
      "cell_type": "code",
      "execution_count": 102,
      "id": "3e10c687-976d-4278-906c-2e9424ac61fc",
      "metadata": {
        "id": "3e10c687-976d-4278-906c-2e9424ac61fc",
        "colab": {
          "base_uri": "https://localhost:8080/"
        },
        "outputId": "24189bd0-43d2-420a-d7dd-34ee249967e2"
      },
      "outputs": [
        {
          "output_type": "stream",
          "name": "stdout",
          "text": [
            "f1-score on training set :  0.7751241110962029\n",
            "f1-score on test set :  0.7551266586248492\n",
            "\n"
          ]
        }
      ],
      "source": [
        "print(\"f1-score on training set : \", f1_score(Y_train, Y_train_pred))\n",
        "print(\"f1-score on test set : \", f1_score(Y_test, Y_test_pred))\n",
        "print()"
      ]
    },
    {
      "cell_type": "code",
      "execution_count": 103,
      "id": "77730f8a-1ea4-4033-9a4e-1c9ce5947c5a",
      "metadata": {
        "id": "77730f8a-1ea4-4033-9a4e-1c9ce5947c5a"
      },
      "outputs": [],
      "source": [
        "scores_df = pd.DataFrame(columns = ['model', 'f1_score', 'set'])"
      ]
    },
    {
      "cell_type": "code",
      "execution_count": 104,
      "id": "928ad3a0-4023-41d9-b116-2d2e1a0d8e48",
      "metadata": {
        "id": "928ad3a0-4023-41d9-b116-2d2e1a0d8e48",
        "colab": {
          "base_uri": "https://localhost:8080/",
          "height": 112
        },
        "outputId": "6e3bd36c-72ca-4474-bee6-a28b51eb8181"
      },
      "outputs": [
        {
          "output_type": "execute_result",
          "data": {
            "text/plain": [
              "           model  f1_score    set\n",
              "0  random_forest  0.775124  train\n",
              "1  random_forest  0.755127   test"
            ],
            "text/html": [
              "\n",
              "  <div id=\"df-3bba289f-cfb3-4cf6-8498-7a64f2caff6c\">\n",
              "    <div class=\"colab-df-container\">\n",
              "      <div>\n",
              "<style scoped>\n",
              "    .dataframe tbody tr th:only-of-type {\n",
              "        vertical-align: middle;\n",
              "    }\n",
              "\n",
              "    .dataframe tbody tr th {\n",
              "        vertical-align: top;\n",
              "    }\n",
              "\n",
              "    .dataframe thead th {\n",
              "        text-align: right;\n",
              "    }\n",
              "</style>\n",
              "<table border=\"1\" class=\"dataframe\">\n",
              "  <thead>\n",
              "    <tr style=\"text-align: right;\">\n",
              "      <th></th>\n",
              "      <th>model</th>\n",
              "      <th>f1_score</th>\n",
              "      <th>set</th>\n",
              "    </tr>\n",
              "  </thead>\n",
              "  <tbody>\n",
              "    <tr>\n",
              "      <th>0</th>\n",
              "      <td>random_forest</td>\n",
              "      <td>0.775124</td>\n",
              "      <td>train</td>\n",
              "    </tr>\n",
              "    <tr>\n",
              "      <th>1</th>\n",
              "      <td>random_forest</td>\n",
              "      <td>0.755127</td>\n",
              "      <td>test</td>\n",
              "    </tr>\n",
              "  </tbody>\n",
              "</table>\n",
              "</div>\n",
              "      <button class=\"colab-df-convert\" onclick=\"convertToInteractive('df-3bba289f-cfb3-4cf6-8498-7a64f2caff6c')\"\n",
              "              title=\"Convert this dataframe to an interactive table.\"\n",
              "              style=\"display:none;\">\n",
              "        \n",
              "  <svg xmlns=\"http://www.w3.org/2000/svg\" height=\"24px\"viewBox=\"0 0 24 24\"\n",
              "       width=\"24px\">\n",
              "    <path d=\"M0 0h24v24H0V0z\" fill=\"none\"/>\n",
              "    <path d=\"M18.56 5.44l.94 2.06.94-2.06 2.06-.94-2.06-.94-.94-2.06-.94 2.06-2.06.94zm-11 1L8.5 8.5l.94-2.06 2.06-.94-2.06-.94L8.5 2.5l-.94 2.06-2.06.94zm10 10l.94 2.06.94-2.06 2.06-.94-2.06-.94-.94-2.06-.94 2.06-2.06.94z\"/><path d=\"M17.41 7.96l-1.37-1.37c-.4-.4-.92-.59-1.43-.59-.52 0-1.04.2-1.43.59L10.3 9.45l-7.72 7.72c-.78.78-.78 2.05 0 2.83L4 21.41c.39.39.9.59 1.41.59.51 0 1.02-.2 1.41-.59l7.78-7.78 2.81-2.81c.8-.78.8-2.07 0-2.86zM5.41 20L4 18.59l7.72-7.72 1.47 1.35L5.41 20z\"/>\n",
              "  </svg>\n",
              "      </button>\n",
              "      \n",
              "  <style>\n",
              "    .colab-df-container {\n",
              "      display:flex;\n",
              "      flex-wrap:wrap;\n",
              "      gap: 12px;\n",
              "    }\n",
              "\n",
              "    .colab-df-convert {\n",
              "      background-color: #E8F0FE;\n",
              "      border: none;\n",
              "      border-radius: 50%;\n",
              "      cursor: pointer;\n",
              "      display: none;\n",
              "      fill: #1967D2;\n",
              "      height: 32px;\n",
              "      padding: 0 0 0 0;\n",
              "      width: 32px;\n",
              "    }\n",
              "\n",
              "    .colab-df-convert:hover {\n",
              "      background-color: #E2EBFA;\n",
              "      box-shadow: 0px 1px 2px rgba(60, 64, 67, 0.3), 0px 1px 3px 1px rgba(60, 64, 67, 0.15);\n",
              "      fill: #174EA6;\n",
              "    }\n",
              "\n",
              "    [theme=dark] .colab-df-convert {\n",
              "      background-color: #3B4455;\n",
              "      fill: #D2E3FC;\n",
              "    }\n",
              "\n",
              "    [theme=dark] .colab-df-convert:hover {\n",
              "      background-color: #434B5C;\n",
              "      box-shadow: 0px 1px 3px 1px rgba(0, 0, 0, 0.15);\n",
              "      filter: drop-shadow(0px 1px 2px rgba(0, 0, 0, 0.3));\n",
              "      fill: #FFFFFF;\n",
              "    }\n",
              "  </style>\n",
              "\n",
              "      <script>\n",
              "        const buttonEl =\n",
              "          document.querySelector('#df-3bba289f-cfb3-4cf6-8498-7a64f2caff6c button.colab-df-convert');\n",
              "        buttonEl.style.display =\n",
              "          google.colab.kernel.accessAllowed ? 'block' : 'none';\n",
              "\n",
              "        async function convertToInteractive(key) {\n",
              "          const element = document.querySelector('#df-3bba289f-cfb3-4cf6-8498-7a64f2caff6c');\n",
              "          const dataTable =\n",
              "            await google.colab.kernel.invokeFunction('convertToInteractive',\n",
              "                                                     [key], {});\n",
              "          if (!dataTable) return;\n",
              "\n",
              "          const docLinkHtml = 'Like what you see? Visit the ' +\n",
              "            '<a target=\"_blank\" href=https://colab.research.google.com/notebooks/data_table.ipynb>data table notebook</a>'\n",
              "            + ' to learn more about interactive tables.';\n",
              "          element.innerHTML = '';\n",
              "          dataTable['output_type'] = 'display_data';\n",
              "          await google.colab.output.renderOutput(dataTable, element);\n",
              "          const docLink = document.createElement('div');\n",
              "          docLink.innerHTML = docLinkHtml;\n",
              "          element.appendChild(docLink);\n",
              "        }\n",
              "      </script>\n",
              "    </div>\n",
              "  </div>\n",
              "  "
            ]
          },
          "metadata": {},
          "execution_count": 104
        }
      ],
      "source": [
        "scores_df = scores_df.append({'model': 'random_forest', 'f1_score': f1_score(Y_train, Y_train_pred), 'set': 'train'}, ignore_index = True)\n",
        "scores_df = scores_df.append({'model': 'random_forest', 'f1_score': f1_score(Y_test, Y_test_pred), 'set': 'test'}, ignore_index = True)\n",
        "scores_df"
      ]
    },
    {
      "cell_type": "code",
      "execution_count": 105,
      "id": "4b760ecd-1fcb-411c-a951-9bad64e2dd28",
      "metadata": {
        "id": "4b760ecd-1fcb-411c-a951-9bad64e2dd28",
        "colab": {
          "base_uri": "https://localhost:8080/"
        },
        "outputId": "62b41f3a-eb1d-404b-d677-ebb0e67ca814"
      },
      "outputs": [
        {
          "output_type": "stream",
          "name": "stdout",
          "text": [
            "Training Bagging of decision tree...\n"
          ]
        },
        {
          "output_type": "execute_result",
          "data": {
            "text/plain": [
              "BaggingClassifier(base_estimator=DecisionTreeClassifier(max_depth=10,\n",
              "                                                        min_samples_leaf=5,\n",
              "                                                        min_samples_split=4),\n",
              "                  n_estimators=40)"
            ]
          },
          "metadata": {},
          "execution_count": 105
        }
      ],
      "source": [
        "print('Training Bagging of decision tree...')\n",
        "decision_tree = DecisionTreeClassifier(max_depth = 10, min_samples_leaf = 5, min_samples_split = 4) # Same hyperparameters as best RF model\n",
        "bagging = BaggingClassifier(base_estimator=decision_tree, n_estimators = 40)\n",
        "bagging.fit(X_train, Y_train)\n",
        "\n"
      ]
    },
    {
      "cell_type": "code",
      "execution_count": 106,
      "id": "f6a25e5a-8640-4550-9b5c-153a2e28072c",
      "metadata": {
        "id": "f6a25e5a-8640-4550-9b5c-153a2e28072c",
        "colab": {
          "base_uri": "https://localhost:8080/"
        },
        "outputId": "2a9ee192-9a66-4519-b2ad-b791bfdceb0d"
      },
      "outputs": [
        {
          "output_type": "stream",
          "name": "stdout",
          "text": [
            "Predictions on training set...\n",
            "...Done.\n",
            "[0 0 0 ... 0 0 0]\n",
            "\n",
            "Probabilities on training set...\n",
            "...Done.\n",
            "[[9.99582911e-01 4.17088635e-04]\n",
            " [9.99759081e-01 2.40918839e-04]\n",
            " [9.99128606e-01 8.71393576e-04]\n",
            " ...\n",
            " [9.99963778e-01 3.62222995e-05]\n",
            " [9.13940846e-01 8.60591544e-02]\n",
            " [9.97156609e-01 2.84339142e-03]]\n",
            "\n"
          ]
        }
      ],
      "source": [
        "# Predictions on training set\n",
        "print(\"Predictions on training set...\")\n",
        "Y_train_pred = bagging.predict(X_train)\n",
        "print(\"...Done.\")\n",
        "print(Y_train_pred)\n",
        "print()\n",
        "\n",
        "# It's also possible to get the probabilities estimated by the model:\n",
        "print(\"Probabilities on training set...\")\n",
        "Y_train_proba = bagging.predict_proba(X_train)\n",
        "print(\"...Done.\")\n",
        "print(Y_train_proba)\n",
        "print()"
      ]
    },
    {
      "cell_type": "code",
      "execution_count": 107,
      "id": "4087b1b9-fec2-429f-b3bd-a2f5384750a5",
      "metadata": {
        "id": "4087b1b9-fec2-429f-b3bd-a2f5384750a5",
        "colab": {
          "base_uri": "https://localhost:8080/"
        },
        "outputId": "56035824-b2d7-4fc2-fa74-81e8d0492cce"
      },
      "outputs": [
        {
          "output_type": "stream",
          "name": "stdout",
          "text": [
            "Predictions on test set...\n",
            "...Done.\n",
            "[0 0 0 ... 0 0 0]\n",
            "\n",
            "Probabilities on test set...\n",
            "...Done.\n",
            "[[9.60400523e-01 3.95994771e-02]\n",
            " [9.97187363e-01 2.81263730e-03]\n",
            " [9.98748951e-01 1.25104949e-03]\n",
            " ...\n",
            " [9.80895055e-01 1.91049451e-02]\n",
            " [9.99986118e-01 1.38819399e-05]\n",
            " [9.96196272e-01 3.80372795e-03]]\n",
            "\n"
          ]
        }
      ],
      "source": [
        "# Predictions on test set\n",
        "print(\"Predictions on test set...\")\n",
        "Y_test_pred = bagging.predict(X_test)\n",
        "print(\"...Done.\")\n",
        "print(Y_test_pred)\n",
        "print()\n",
        "\n",
        "# It's also possible to get the probabilities estimated by the model:\n",
        "print(\"Probabilities on test set...\")\n",
        "Y_test_proba = bagging.predict_proba(X_test)\n",
        "print(\"...Done.\")\n",
        "print(Y_test_proba)\n",
        "print()"
      ]
    },
    {
      "cell_type": "code",
      "execution_count": 108,
      "id": "25e4a510-1c89-4992-9ba4-12d24506fe0c",
      "metadata": {
        "id": "25e4a510-1c89-4992-9ba4-12d24506fe0c",
        "colab": {
          "base_uri": "https://localhost:8080/",
          "height": 175
        },
        "outputId": "b9235cd6-d8ec-4ade-951e-c023db3fb174"
      },
      "outputs": [
        {
          "output_type": "execute_result",
          "data": {
            "text/plain": [
              "           model  f1_score    set\n",
              "0  random_forest  0.775124  train\n",
              "1  random_forest  0.755127   test\n",
              "2        bagging  0.778074  train\n",
              "3        bagging  0.755102   test"
            ],
            "text/html": [
              "\n",
              "  <div id=\"df-e5622bd2-ee6b-41df-8742-a33ef2a8dbfb\">\n",
              "    <div class=\"colab-df-container\">\n",
              "      <div>\n",
              "<style scoped>\n",
              "    .dataframe tbody tr th:only-of-type {\n",
              "        vertical-align: middle;\n",
              "    }\n",
              "\n",
              "    .dataframe tbody tr th {\n",
              "        vertical-align: top;\n",
              "    }\n",
              "\n",
              "    .dataframe thead th {\n",
              "        text-align: right;\n",
              "    }\n",
              "</style>\n",
              "<table border=\"1\" class=\"dataframe\">\n",
              "  <thead>\n",
              "    <tr style=\"text-align: right;\">\n",
              "      <th></th>\n",
              "      <th>model</th>\n",
              "      <th>f1_score</th>\n",
              "      <th>set</th>\n",
              "    </tr>\n",
              "  </thead>\n",
              "  <tbody>\n",
              "    <tr>\n",
              "      <th>0</th>\n",
              "      <td>random_forest</td>\n",
              "      <td>0.775124</td>\n",
              "      <td>train</td>\n",
              "    </tr>\n",
              "    <tr>\n",
              "      <th>1</th>\n",
              "      <td>random_forest</td>\n",
              "      <td>0.755127</td>\n",
              "      <td>test</td>\n",
              "    </tr>\n",
              "    <tr>\n",
              "      <th>2</th>\n",
              "      <td>bagging</td>\n",
              "      <td>0.778074</td>\n",
              "      <td>train</td>\n",
              "    </tr>\n",
              "    <tr>\n",
              "      <th>3</th>\n",
              "      <td>bagging</td>\n",
              "      <td>0.755102</td>\n",
              "      <td>test</td>\n",
              "    </tr>\n",
              "  </tbody>\n",
              "</table>\n",
              "</div>\n",
              "      <button class=\"colab-df-convert\" onclick=\"convertToInteractive('df-e5622bd2-ee6b-41df-8742-a33ef2a8dbfb')\"\n",
              "              title=\"Convert this dataframe to an interactive table.\"\n",
              "              style=\"display:none;\">\n",
              "        \n",
              "  <svg xmlns=\"http://www.w3.org/2000/svg\" height=\"24px\"viewBox=\"0 0 24 24\"\n",
              "       width=\"24px\">\n",
              "    <path d=\"M0 0h24v24H0V0z\" fill=\"none\"/>\n",
              "    <path d=\"M18.56 5.44l.94 2.06.94-2.06 2.06-.94-2.06-.94-.94-2.06-.94 2.06-2.06.94zm-11 1L8.5 8.5l.94-2.06 2.06-.94-2.06-.94L8.5 2.5l-.94 2.06-2.06.94zm10 10l.94 2.06.94-2.06 2.06-.94-2.06-.94-.94-2.06-.94 2.06-2.06.94z\"/><path d=\"M17.41 7.96l-1.37-1.37c-.4-.4-.92-.59-1.43-.59-.52 0-1.04.2-1.43.59L10.3 9.45l-7.72 7.72c-.78.78-.78 2.05 0 2.83L4 21.41c.39.39.9.59 1.41.59.51 0 1.02-.2 1.41-.59l7.78-7.78 2.81-2.81c.8-.78.8-2.07 0-2.86zM5.41 20L4 18.59l7.72-7.72 1.47 1.35L5.41 20z\"/>\n",
              "  </svg>\n",
              "      </button>\n",
              "      \n",
              "  <style>\n",
              "    .colab-df-container {\n",
              "      display:flex;\n",
              "      flex-wrap:wrap;\n",
              "      gap: 12px;\n",
              "    }\n",
              "\n",
              "    .colab-df-convert {\n",
              "      background-color: #E8F0FE;\n",
              "      border: none;\n",
              "      border-radius: 50%;\n",
              "      cursor: pointer;\n",
              "      display: none;\n",
              "      fill: #1967D2;\n",
              "      height: 32px;\n",
              "      padding: 0 0 0 0;\n",
              "      width: 32px;\n",
              "    }\n",
              "\n",
              "    .colab-df-convert:hover {\n",
              "      background-color: #E2EBFA;\n",
              "      box-shadow: 0px 1px 2px rgba(60, 64, 67, 0.3), 0px 1px 3px 1px rgba(60, 64, 67, 0.15);\n",
              "      fill: #174EA6;\n",
              "    }\n",
              "\n",
              "    [theme=dark] .colab-df-convert {\n",
              "      background-color: #3B4455;\n",
              "      fill: #D2E3FC;\n",
              "    }\n",
              "\n",
              "    [theme=dark] .colab-df-convert:hover {\n",
              "      background-color: #434B5C;\n",
              "      box-shadow: 0px 1px 3px 1px rgba(0, 0, 0, 0.15);\n",
              "      filter: drop-shadow(0px 1px 2px rgba(0, 0, 0, 0.3));\n",
              "      fill: #FFFFFF;\n",
              "    }\n",
              "  </style>\n",
              "\n",
              "      <script>\n",
              "        const buttonEl =\n",
              "          document.querySelector('#df-e5622bd2-ee6b-41df-8742-a33ef2a8dbfb button.colab-df-convert');\n",
              "        buttonEl.style.display =\n",
              "          google.colab.kernel.accessAllowed ? 'block' : 'none';\n",
              "\n",
              "        async function convertToInteractive(key) {\n",
              "          const element = document.querySelector('#df-e5622bd2-ee6b-41df-8742-a33ef2a8dbfb');\n",
              "          const dataTable =\n",
              "            await google.colab.kernel.invokeFunction('convertToInteractive',\n",
              "                                                     [key], {});\n",
              "          if (!dataTable) return;\n",
              "\n",
              "          const docLinkHtml = 'Like what you see? Visit the ' +\n",
              "            '<a target=\"_blank\" href=https://colab.research.google.com/notebooks/data_table.ipynb>data table notebook</a>'\n",
              "            + ' to learn more about interactive tables.';\n",
              "          element.innerHTML = '';\n",
              "          dataTable['output_type'] = 'display_data';\n",
              "          await google.colab.output.renderOutput(dataTable, element);\n",
              "          const docLink = document.createElement('div');\n",
              "          docLink.innerHTML = docLinkHtml;\n",
              "          element.appendChild(docLink);\n",
              "        }\n",
              "      </script>\n",
              "    </div>\n",
              "  </div>\n",
              "  "
            ]
          },
          "metadata": {},
          "execution_count": 108
        }
      ],
      "source": [
        "scores_df = scores_df.append({'model': 'bagging', 'f1_score': f1_score(Y_train, Y_train_pred), 'set': 'train'}, ignore_index = True)\n",
        "scores_df = scores_df.append({'model': 'bagging', 'f1_score': f1_score(Y_test, Y_test_pred), 'set': 'test'}, ignore_index = True)\n",
        "scores_df"
      ]
    },
    {
      "cell_type": "code",
      "execution_count": 109,
      "id": "60e1e987-584a-423c-9d66-0cb1da408327",
      "metadata": {
        "id": "60e1e987-584a-423c-9d66-0cb1da408327",
        "colab": {
          "base_uri": "https://localhost:8080/"
        },
        "outputId": "4f7521d4-914d-4c2e-be9b-904e953d3714"
      },
      "outputs": [
        {
          "output_type": "stream",
          "name": "stdout",
          "text": [
            "Grid search...\n",
            "{'base_estimator__C': [0.01, 0.05, 0.1, 0.5, 1.0, 5.0, 10.0, 50.0], 'n_estimators': [40]}\n",
            "Fitting 10 folds for each of 8 candidates, totalling 80 fits\n",
            "...Done.\n"
          ]
        }
      ],
      "source": [
        "# Perform grid search\n",
        "print(\"Grid search...\")\n",
        "logistic_regression = LogisticRegression(max_iter = 1000)\n",
        "adaboost_logreg = AdaBoostClassifier(logistic_regression)\n",
        "\n",
        "# Grid of values to be tested\n",
        "params = {\n",
        "    'base_estimator__C': [0.01, 0.05, 0.1, 0.5, 1.0, 5.0, 10.0, 50.0],\n",
        "    'n_estimators': [40]\n",
        "}\n",
        "print(params)\n",
        "grid_adaboost = GridSearchCV(adaboost_logreg, param_grid = params, cv = 10, verbose = 1,  n_jobs = -1) # cv : the number of folds to be used for CV\n",
        "grid_adaboost.fit(X_train, Y_train)\n",
        "print(\"...Done.\")\n"
      ]
    },
    {
      "cell_type": "code",
      "execution_count": 110,
      "id": "d3a6cca7-91d5-44c5-9a0a-683c752ed7eb",
      "metadata": {
        "id": "d3a6cca7-91d5-44c5-9a0a-683c752ed7eb",
        "colab": {
          "base_uri": "https://localhost:8080/"
        },
        "outputId": "1cd8c141-6894-4687-e9fd-4a844bcc78b8"
      },
      "outputs": [
        {
          "output_type": "stream",
          "name": "stdout",
          "text": [
            "Predictions on training set...\n",
            "...Done.\n",
            "[0 0 0 ... 0 0 0]\n",
            "\n",
            "Probabilities on training set...\n",
            "...Done.\n",
            "[[0.56420357 0.43579643]\n",
            " [0.56552893 0.43447107]\n",
            " [0.55332649 0.44667351]\n",
            " ...\n",
            " [0.55473619 0.44526381]\n",
            " [0.51253694 0.48746306]\n",
            " [0.53409189 0.46590811]]\n",
            "\n"
          ]
        }
      ],
      "source": [
        "# Predictions on training set\n",
        "print(\"Predictions on training set...\")\n",
        "Y_train_pred = grid_adaboost.predict(X_train)\n",
        "print(\"...Done.\")\n",
        "print(Y_train_pred)\n",
        "print()\n",
        "\n",
        "# It's also possible to get the probabilities estimated by the model:\n",
        "print(\"Probabilities on training set...\")\n",
        "Y_train_proba = grid_adaboost.predict_proba(X_train)\n",
        "print(\"...Done.\")\n",
        "print(Y_train_proba)\n",
        "print()"
      ]
    },
    {
      "cell_type": "code",
      "execution_count": 111,
      "id": "d9bdb409-c991-4efb-a8c4-785e27bad84a",
      "metadata": {
        "id": "d9bdb409-c991-4efb-a8c4-785e27bad84a",
        "colab": {
          "base_uri": "https://localhost:8080/"
        },
        "outputId": "63c2cada-bb62-4b0b-ca6f-9441058ec853"
      },
      "outputs": [
        {
          "output_type": "stream",
          "name": "stdout",
          "text": [
            "Predictions on test set...\n",
            "...Done.\n",
            "[0 0 0 ... 0 0 0]\n",
            "\n",
            "Probabilities on test set...\n",
            "...Done.\n",
            "[[0.51643214 0.48356786]\n",
            " [0.53794858 0.46205142]\n",
            " [0.54023054 0.45976946]\n",
            " ...\n",
            " [0.52234336 0.47765664]\n",
            " [0.5598392  0.4401608 ]\n",
            " [0.5355272  0.4644728 ]]\n",
            "\n"
          ]
        }
      ],
      "source": [
        "# Predictions on test set\n",
        "print(\"Predictions on test set...\")\n",
        "Y_test_pred = grid_adaboost.predict(X_test)\n",
        "print(\"...Done.\")\n",
        "print(Y_test_pred)\n",
        "print()\n",
        "\n",
        "# It's also possible to get the probabilities estimated by the model:\n",
        "print(\"Probabilities on test set...\")\n",
        "Y_test_proba = grid_adaboost.predict_proba(X_test)\n",
        "print(\"...Done.\")\n",
        "print(Y_test_proba)\n",
        "print()"
      ]
    },
    {
      "cell_type": "code",
      "execution_count": 112,
      "id": "132f7975-dc5d-4da9-98c5-b38cab98339a",
      "metadata": {
        "id": "132f7975-dc5d-4da9-98c5-b38cab98339a",
        "colab": {
          "base_uri": "https://localhost:8080/",
          "height": 238
        },
        "outputId": "d86a6a30-c6f3-49e0-9f92-07fed47e4eba"
      },
      "outputs": [
        {
          "output_type": "execute_result",
          "data": {
            "text/plain": [
              "             model  f1_score    set\n",
              "0    random_forest  0.775124  train\n",
              "1    random_forest  0.755127   test\n",
              "2          bagging  0.778074  train\n",
              "3          bagging  0.755102   test\n",
              "4  adaboost_logreg  0.764690  train\n",
              "5  adaboost_logreg  0.757831   test"
            ],
            "text/html": [
              "\n",
              "  <div id=\"df-d83e962a-cbb9-484d-a93a-33e8157a3fb5\">\n",
              "    <div class=\"colab-df-container\">\n",
              "      <div>\n",
              "<style scoped>\n",
              "    .dataframe tbody tr th:only-of-type {\n",
              "        vertical-align: middle;\n",
              "    }\n",
              "\n",
              "    .dataframe tbody tr th {\n",
              "        vertical-align: top;\n",
              "    }\n",
              "\n",
              "    .dataframe thead th {\n",
              "        text-align: right;\n",
              "    }\n",
              "</style>\n",
              "<table border=\"1\" class=\"dataframe\">\n",
              "  <thead>\n",
              "    <tr style=\"text-align: right;\">\n",
              "      <th></th>\n",
              "      <th>model</th>\n",
              "      <th>f1_score</th>\n",
              "      <th>set</th>\n",
              "    </tr>\n",
              "  </thead>\n",
              "  <tbody>\n",
              "    <tr>\n",
              "      <th>0</th>\n",
              "      <td>random_forest</td>\n",
              "      <td>0.775124</td>\n",
              "      <td>train</td>\n",
              "    </tr>\n",
              "    <tr>\n",
              "      <th>1</th>\n",
              "      <td>random_forest</td>\n",
              "      <td>0.755127</td>\n",
              "      <td>test</td>\n",
              "    </tr>\n",
              "    <tr>\n",
              "      <th>2</th>\n",
              "      <td>bagging</td>\n",
              "      <td>0.778074</td>\n",
              "      <td>train</td>\n",
              "    </tr>\n",
              "    <tr>\n",
              "      <th>3</th>\n",
              "      <td>bagging</td>\n",
              "      <td>0.755102</td>\n",
              "      <td>test</td>\n",
              "    </tr>\n",
              "    <tr>\n",
              "      <th>4</th>\n",
              "      <td>adaboost_logreg</td>\n",
              "      <td>0.764690</td>\n",
              "      <td>train</td>\n",
              "    </tr>\n",
              "    <tr>\n",
              "      <th>5</th>\n",
              "      <td>adaboost_logreg</td>\n",
              "      <td>0.757831</td>\n",
              "      <td>test</td>\n",
              "    </tr>\n",
              "  </tbody>\n",
              "</table>\n",
              "</div>\n",
              "      <button class=\"colab-df-convert\" onclick=\"convertToInteractive('df-d83e962a-cbb9-484d-a93a-33e8157a3fb5')\"\n",
              "              title=\"Convert this dataframe to an interactive table.\"\n",
              "              style=\"display:none;\">\n",
              "        \n",
              "  <svg xmlns=\"http://www.w3.org/2000/svg\" height=\"24px\"viewBox=\"0 0 24 24\"\n",
              "       width=\"24px\">\n",
              "    <path d=\"M0 0h24v24H0V0z\" fill=\"none\"/>\n",
              "    <path d=\"M18.56 5.44l.94 2.06.94-2.06 2.06-.94-2.06-.94-.94-2.06-.94 2.06-2.06.94zm-11 1L8.5 8.5l.94-2.06 2.06-.94-2.06-.94L8.5 2.5l-.94 2.06-2.06.94zm10 10l.94 2.06.94-2.06 2.06-.94-2.06-.94-.94-2.06-.94 2.06-2.06.94z\"/><path d=\"M17.41 7.96l-1.37-1.37c-.4-.4-.92-.59-1.43-.59-.52 0-1.04.2-1.43.59L10.3 9.45l-7.72 7.72c-.78.78-.78 2.05 0 2.83L4 21.41c.39.39.9.59 1.41.59.51 0 1.02-.2 1.41-.59l7.78-7.78 2.81-2.81c.8-.78.8-2.07 0-2.86zM5.41 20L4 18.59l7.72-7.72 1.47 1.35L5.41 20z\"/>\n",
              "  </svg>\n",
              "      </button>\n",
              "      \n",
              "  <style>\n",
              "    .colab-df-container {\n",
              "      display:flex;\n",
              "      flex-wrap:wrap;\n",
              "      gap: 12px;\n",
              "    }\n",
              "\n",
              "    .colab-df-convert {\n",
              "      background-color: #E8F0FE;\n",
              "      border: none;\n",
              "      border-radius: 50%;\n",
              "      cursor: pointer;\n",
              "      display: none;\n",
              "      fill: #1967D2;\n",
              "      height: 32px;\n",
              "      padding: 0 0 0 0;\n",
              "      width: 32px;\n",
              "    }\n",
              "\n",
              "    .colab-df-convert:hover {\n",
              "      background-color: #E2EBFA;\n",
              "      box-shadow: 0px 1px 2px rgba(60, 64, 67, 0.3), 0px 1px 3px 1px rgba(60, 64, 67, 0.15);\n",
              "      fill: #174EA6;\n",
              "    }\n",
              "\n",
              "    [theme=dark] .colab-df-convert {\n",
              "      background-color: #3B4455;\n",
              "      fill: #D2E3FC;\n",
              "    }\n",
              "\n",
              "    [theme=dark] .colab-df-convert:hover {\n",
              "      background-color: #434B5C;\n",
              "      box-shadow: 0px 1px 3px 1px rgba(0, 0, 0, 0.15);\n",
              "      filter: drop-shadow(0px 1px 2px rgba(0, 0, 0, 0.3));\n",
              "      fill: #FFFFFF;\n",
              "    }\n",
              "  </style>\n",
              "\n",
              "      <script>\n",
              "        const buttonEl =\n",
              "          document.querySelector('#df-d83e962a-cbb9-484d-a93a-33e8157a3fb5 button.colab-df-convert');\n",
              "        buttonEl.style.display =\n",
              "          google.colab.kernel.accessAllowed ? 'block' : 'none';\n",
              "\n",
              "        async function convertToInteractive(key) {\n",
              "          const element = document.querySelector('#df-d83e962a-cbb9-484d-a93a-33e8157a3fb5');\n",
              "          const dataTable =\n",
              "            await google.colab.kernel.invokeFunction('convertToInteractive',\n",
              "                                                     [key], {});\n",
              "          if (!dataTable) return;\n",
              "\n",
              "          const docLinkHtml = 'Like what you see? Visit the ' +\n",
              "            '<a target=\"_blank\" href=https://colab.research.google.com/notebooks/data_table.ipynb>data table notebook</a>'\n",
              "            + ' to learn more about interactive tables.';\n",
              "          element.innerHTML = '';\n",
              "          dataTable['output_type'] = 'display_data';\n",
              "          await google.colab.output.renderOutput(dataTable, element);\n",
              "          const docLink = document.createElement('div');\n",
              "          docLink.innerHTML = docLinkHtml;\n",
              "          element.appendChild(docLink);\n",
              "        }\n",
              "      </script>\n",
              "    </div>\n",
              "  </div>\n",
              "  "
            ]
          },
          "metadata": {},
          "execution_count": 112
        }
      ],
      "source": [
        "scores_df = scores_df.append({'model': 'adaboost_logreg', 'f1_score': f1_score(Y_train, Y_train_pred), 'set': 'train'}, ignore_index = True)\n",
        "scores_df = scores_df.append({'model': 'adaboost_logreg', 'f1_score': f1_score(Y_test, Y_test_pred), 'set': 'test'}, ignore_index = True)\n",
        "scores_df"
      ]
    },
    {
      "cell_type": "code",
      "execution_count": 113,
      "id": "20dbda14-39a7-481b-ae1d-6eb40f31e9a3",
      "metadata": {
        "id": "20dbda14-39a7-481b-ae1d-6eb40f31e9a3",
        "colab": {
          "base_uri": "https://localhost:8080/"
        },
        "outputId": "1bf14773-0f1e-487c-d0ea-e05a43a3f4d3"
      },
      "outputs": [
        {
          "output_type": "stream",
          "name": "stdout",
          "text": [
            "Grid search...\n",
            "{'max_depth': [10], 'min_samples_leaf': [5], 'min_samples_split': [4], 'n_estimators': [40]}\n",
            "Fitting 10 folds for each of 1 candidates, totalling 10 fits\n"
          ]
        },
        {
          "output_type": "execute_result",
          "data": {
            "text/plain": [
              "GridSearchCV(cv=10, estimator=GradientBoostingClassifier(), n_jobs=-1,\n",
              "             param_grid={'max_depth': [10], 'min_samples_leaf': [5],\n",
              "                         'min_samples_split': [4], 'n_estimators': [40]},\n",
              "             verbose=1)"
            ]
          },
          "metadata": {},
          "execution_count": 113
        }
      ],
      "source": [
        "# Perform grid search\n",
        "print(\"Grid search...\")\n",
        "gradientboost = GradientBoostingClassifier()\n",
        "\n",
        "# Grid of values to be tested\n",
        "params = {\n",
        "    'max_depth': [10],\n",
        "    'min_samples_leaf': [5],\n",
        "    'min_samples_split': [4],\n",
        "    'n_estimators': [40]\n",
        "}\n",
        "print(params)\n",
        "gridsearch_gradient = GridSearchCV(gradientboost, param_grid = params, cv = 10, verbose = 1,  n_jobs = -1) # cv : the number of folds to be used for CV\n",
        "gridsearch_gradient.fit(X_train, Y_train)"
      ]
    },
    {
      "cell_type": "code",
      "execution_count": 114,
      "id": "5c3f1cbf-f4f9-4c84-9404-cc200e6c82e8",
      "metadata": {
        "id": "5c3f1cbf-f4f9-4c84-9404-cc200e6c82e8",
        "colab": {
          "base_uri": "https://localhost:8080/"
        },
        "outputId": "1eb11972-4f89-4cd4-d87a-27b3b39c075c"
      },
      "outputs": [
        {
          "output_type": "stream",
          "name": "stdout",
          "text": [
            "Predictions on training set...\n",
            "...Done.\n",
            "[0 0 0 ... 0 0 0]\n",
            "\n",
            "Probabilities on training set...\n",
            "...Done.\n",
            "[[9.99153242e-01 8.46757825e-04]\n",
            " [9.99065439e-01 9.34560901e-04]\n",
            " [9.99124029e-01 8.75970934e-04]\n",
            " ...\n",
            " [9.99216009e-01 7.83990690e-04]\n",
            " [9.69565257e-01 3.04347428e-02]\n",
            " [9.94978569e-01 5.02143126e-03]]\n",
            "\n"
          ]
        }
      ],
      "source": [
        "# Predictions on training set\n",
        "print(\"Predictions on training set...\")\n",
        "Y_train_pred = gridsearch_gradient.predict(X_train)\n",
        "print(\"...Done.\")\n",
        "print(Y_train_pred)\n",
        "print()\n",
        "\n",
        "# It's also possible to get the probabilities estimated by the model:\n",
        "print(\"Probabilities on training set...\")\n",
        "Y_train_proba = gridsearch_gradient.predict_proba(X_train)\n",
        "print(\"...Done.\")\n",
        "print(Y_train_proba)\n",
        "print()"
      ]
    },
    {
      "cell_type": "code",
      "execution_count": 115,
      "id": "1dc840fc-436e-4eef-9be0-eef376787358",
      "metadata": {
        "id": "1dc840fc-436e-4eef-9be0-eef376787358",
        "colab": {
          "base_uri": "https://localhost:8080/"
        },
        "outputId": "53aba459-bef0-4bc4-9a9c-6c0f31d9c611"
      },
      "outputs": [
        {
          "output_type": "stream",
          "name": "stdout",
          "text": [
            "Predictions on test set...\n",
            "...Done.\n",
            "[0 0 0 ... 0 0 0]\n",
            "\n",
            "Probabilities on test set...\n",
            "...Done.\n",
            "[[9.85640585e-01 1.43594152e-02]\n",
            " [9.96538482e-01 3.46151845e-03]\n",
            " [9.98497273e-01 1.50272713e-03]\n",
            " ...\n",
            " [9.74945263e-01 2.50547371e-02]\n",
            " [9.99293420e-01 7.06579909e-04]\n",
            " [9.94040896e-01 5.95910432e-03]]\n",
            "\n"
          ]
        }
      ],
      "source": [
        "# Predictions on test set\n",
        "print(\"Predictions on test set...\")\n",
        "Y_test_pred = gridsearch_gradient.predict(X_test)\n",
        "print(\"...Done.\")\n",
        "print(Y_test_pred)\n",
        "print()\n",
        "\n",
        "# It's also possible to get the probabilities estimated by the model:\n",
        "print(\"Probabilities on test set...\")\n",
        "Y_test_proba = gridsearch_gradient.predict_proba(X_test)\n",
        "print(\"...Done.\")\n",
        "print(Y_test_proba)\n",
        "print()"
      ]
    },
    {
      "cell_type": "code",
      "execution_count": 116,
      "id": "1f0efdd0-db15-4d93-81ef-6f47ae8b8eab",
      "metadata": {
        "id": "1f0efdd0-db15-4d93-81ef-6f47ae8b8eab",
        "colab": {
          "base_uri": "https://localhost:8080/",
          "height": 300
        },
        "outputId": "df9b7688-0bc7-4375-e9be-a4fbb67e4311"
      },
      "outputs": [
        {
          "output_type": "execute_result",
          "data": {
            "text/plain": [
              "             model  f1_score    set\n",
              "0    random_forest  0.775124  train\n",
              "1    random_forest  0.755127   test\n",
              "2          bagging  0.778074  train\n",
              "3          bagging  0.755102   test\n",
              "4  adaboost_logreg  0.764690  train\n",
              "5  adaboost_logreg  0.757831   test\n",
              "6    gradientboost  0.792709  train\n",
              "7    gradientboost  0.750150   test"
            ],
            "text/html": [
              "\n",
              "  <div id=\"df-8ed0a7d9-7d33-4f2c-8ed7-c3e2167ac4ff\">\n",
              "    <div class=\"colab-df-container\">\n",
              "      <div>\n",
              "<style scoped>\n",
              "    .dataframe tbody tr th:only-of-type {\n",
              "        vertical-align: middle;\n",
              "    }\n",
              "\n",
              "    .dataframe tbody tr th {\n",
              "        vertical-align: top;\n",
              "    }\n",
              "\n",
              "    .dataframe thead th {\n",
              "        text-align: right;\n",
              "    }\n",
              "</style>\n",
              "<table border=\"1\" class=\"dataframe\">\n",
              "  <thead>\n",
              "    <tr style=\"text-align: right;\">\n",
              "      <th></th>\n",
              "      <th>model</th>\n",
              "      <th>f1_score</th>\n",
              "      <th>set</th>\n",
              "    </tr>\n",
              "  </thead>\n",
              "  <tbody>\n",
              "    <tr>\n",
              "      <th>0</th>\n",
              "      <td>random_forest</td>\n",
              "      <td>0.775124</td>\n",
              "      <td>train</td>\n",
              "    </tr>\n",
              "    <tr>\n",
              "      <th>1</th>\n",
              "      <td>random_forest</td>\n",
              "      <td>0.755127</td>\n",
              "      <td>test</td>\n",
              "    </tr>\n",
              "    <tr>\n",
              "      <th>2</th>\n",
              "      <td>bagging</td>\n",
              "      <td>0.778074</td>\n",
              "      <td>train</td>\n",
              "    </tr>\n",
              "    <tr>\n",
              "      <th>3</th>\n",
              "      <td>bagging</td>\n",
              "      <td>0.755102</td>\n",
              "      <td>test</td>\n",
              "    </tr>\n",
              "    <tr>\n",
              "      <th>4</th>\n",
              "      <td>adaboost_logreg</td>\n",
              "      <td>0.764690</td>\n",
              "      <td>train</td>\n",
              "    </tr>\n",
              "    <tr>\n",
              "      <th>5</th>\n",
              "      <td>adaboost_logreg</td>\n",
              "      <td>0.757831</td>\n",
              "      <td>test</td>\n",
              "    </tr>\n",
              "    <tr>\n",
              "      <th>6</th>\n",
              "      <td>gradientboost</td>\n",
              "      <td>0.792709</td>\n",
              "      <td>train</td>\n",
              "    </tr>\n",
              "    <tr>\n",
              "      <th>7</th>\n",
              "      <td>gradientboost</td>\n",
              "      <td>0.750150</td>\n",
              "      <td>test</td>\n",
              "    </tr>\n",
              "  </tbody>\n",
              "</table>\n",
              "</div>\n",
              "      <button class=\"colab-df-convert\" onclick=\"convertToInteractive('df-8ed0a7d9-7d33-4f2c-8ed7-c3e2167ac4ff')\"\n",
              "              title=\"Convert this dataframe to an interactive table.\"\n",
              "              style=\"display:none;\">\n",
              "        \n",
              "  <svg xmlns=\"http://www.w3.org/2000/svg\" height=\"24px\"viewBox=\"0 0 24 24\"\n",
              "       width=\"24px\">\n",
              "    <path d=\"M0 0h24v24H0V0z\" fill=\"none\"/>\n",
              "    <path d=\"M18.56 5.44l.94 2.06.94-2.06 2.06-.94-2.06-.94-.94-2.06-.94 2.06-2.06.94zm-11 1L8.5 8.5l.94-2.06 2.06-.94-2.06-.94L8.5 2.5l-.94 2.06-2.06.94zm10 10l.94 2.06.94-2.06 2.06-.94-2.06-.94-.94-2.06-.94 2.06-2.06.94z\"/><path d=\"M17.41 7.96l-1.37-1.37c-.4-.4-.92-.59-1.43-.59-.52 0-1.04.2-1.43.59L10.3 9.45l-7.72 7.72c-.78.78-.78 2.05 0 2.83L4 21.41c.39.39.9.59 1.41.59.51 0 1.02-.2 1.41-.59l7.78-7.78 2.81-2.81c.8-.78.8-2.07 0-2.86zM5.41 20L4 18.59l7.72-7.72 1.47 1.35L5.41 20z\"/>\n",
              "  </svg>\n",
              "      </button>\n",
              "      \n",
              "  <style>\n",
              "    .colab-df-container {\n",
              "      display:flex;\n",
              "      flex-wrap:wrap;\n",
              "      gap: 12px;\n",
              "    }\n",
              "\n",
              "    .colab-df-convert {\n",
              "      background-color: #E8F0FE;\n",
              "      border: none;\n",
              "      border-radius: 50%;\n",
              "      cursor: pointer;\n",
              "      display: none;\n",
              "      fill: #1967D2;\n",
              "      height: 32px;\n",
              "      padding: 0 0 0 0;\n",
              "      width: 32px;\n",
              "    }\n",
              "\n",
              "    .colab-df-convert:hover {\n",
              "      background-color: #E2EBFA;\n",
              "      box-shadow: 0px 1px 2px rgba(60, 64, 67, 0.3), 0px 1px 3px 1px rgba(60, 64, 67, 0.15);\n",
              "      fill: #174EA6;\n",
              "    }\n",
              "\n",
              "    [theme=dark] .colab-df-convert {\n",
              "      background-color: #3B4455;\n",
              "      fill: #D2E3FC;\n",
              "    }\n",
              "\n",
              "    [theme=dark] .colab-df-convert:hover {\n",
              "      background-color: #434B5C;\n",
              "      box-shadow: 0px 1px 3px 1px rgba(0, 0, 0, 0.15);\n",
              "      filter: drop-shadow(0px 1px 2px rgba(0, 0, 0, 0.3));\n",
              "      fill: #FFFFFF;\n",
              "    }\n",
              "  </style>\n",
              "\n",
              "      <script>\n",
              "        const buttonEl =\n",
              "          document.querySelector('#df-8ed0a7d9-7d33-4f2c-8ed7-c3e2167ac4ff button.colab-df-convert');\n",
              "        buttonEl.style.display =\n",
              "          google.colab.kernel.accessAllowed ? 'block' : 'none';\n",
              "\n",
              "        async function convertToInteractive(key) {\n",
              "          const element = document.querySelector('#df-8ed0a7d9-7d33-4f2c-8ed7-c3e2167ac4ff');\n",
              "          const dataTable =\n",
              "            await google.colab.kernel.invokeFunction('convertToInteractive',\n",
              "                                                     [key], {});\n",
              "          if (!dataTable) return;\n",
              "\n",
              "          const docLinkHtml = 'Like what you see? Visit the ' +\n",
              "            '<a target=\"_blank\" href=https://colab.research.google.com/notebooks/data_table.ipynb>data table notebook</a>'\n",
              "            + ' to learn more about interactive tables.';\n",
              "          element.innerHTML = '';\n",
              "          dataTable['output_type'] = 'display_data';\n",
              "          await google.colab.output.renderOutput(dataTable, element);\n",
              "          const docLink = document.createElement('div');\n",
              "          docLink.innerHTML = docLinkHtml;\n",
              "          element.appendChild(docLink);\n",
              "        }\n",
              "      </script>\n",
              "    </div>\n",
              "  </div>\n",
              "  "
            ]
          },
          "metadata": {},
          "execution_count": 116
        }
      ],
      "source": [
        "scores_df = scores_df.append({'model': 'gradientboost', 'f1_score': f1_score(Y_train, Y_train_pred), 'set': 'train'}, ignore_index = True)\n",
        "scores_df = scores_df.append({'model': 'gradientboost', 'f1_score': f1_score(Y_test, Y_test_pred), 'set': 'test'}, ignore_index = True)\n",
        "scores_df"
      ]
    },
    {
      "cell_type": "code",
      "execution_count": 117,
      "id": "28a240fd-e5b7-4525-9bac-a19afff148c2",
      "metadata": {
        "id": "28a240fd-e5b7-4525-9bac-a19afff148c2",
        "colab": {
          "base_uri": "https://localhost:8080/"
        },
        "outputId": "b5f469cd-430d-4169-86ea-bd7f7c093477"
      },
      "outputs": [
        {
          "output_type": "stream",
          "name": "stdout",
          "text": [
            "Grid search...\n",
            "{'max_depth': [10], 'min_child_weight': [1, 2, 4, 5, 6, 8], 'n_estimators': [40]}\n",
            "Fitting 10 folds for each of 6 candidates, totalling 60 fits\n"
          ]
        },
        {
          "output_type": "execute_result",
          "data": {
            "text/plain": [
              "GridSearchCV(cv=10, estimator=XGBClassifier(), n_jobs=-1,\n",
              "             param_grid={'max_depth': [10],\n",
              "                         'min_child_weight': [1, 2, 4, 5, 6, 8],\n",
              "                         'n_estimators': [40]},\n",
              "             verbose=1)"
            ]
          },
          "metadata": {},
          "execution_count": 117
        }
      ],
      "source": [
        "# Perform grid search\n",
        "print(\"Grid search...\")\n",
        "xgboost = XGBClassifier()\n",
        "\n",
        "# Grid of values to be tested\n",
        "params = {\n",
        "    'max_depth': [10],\n",
        "    'min_child_weight': [1, 2, 4,5, 6, 8],\n",
        "    'n_estimators': [40]\n",
        "}\n",
        "print(params)\n",
        "gridsearch_xgboost = GridSearchCV(xgboost, param_grid = params, cv = 10, verbose = 1,  n_jobs = -1) # cv : the number of folds to be used for CV\n",
        "gridsearch_xgboost.fit(X_train, Y_train)"
      ]
    },
    {
      "cell_type": "code",
      "execution_count": 118,
      "id": "0505d353-8c31-4acb-89ae-86d50d3d918f",
      "metadata": {
        "id": "0505d353-8c31-4acb-89ae-86d50d3d918f",
        "colab": {
          "base_uri": "https://localhost:8080/"
        },
        "outputId": "754d9e6e-d713-4c98-9724-ef5c50af8df8"
      },
      "outputs": [
        {
          "output_type": "stream",
          "name": "stdout",
          "text": [
            "Predictions on training set...\n",
            "...Done.\n",
            "[0 0 0 ... 0 0 0]\n",
            "\n",
            "Probabilities on training set...\n",
            "...Done.\n",
            "[[0.9907869  0.00921307]\n",
            " [0.9907869  0.00921307]\n",
            " [0.989307   0.01069304]\n",
            " ...\n",
            " [0.9907869  0.00921307]\n",
            " [0.9127305  0.08726951]\n",
            " [0.9880653  0.01193469]]\n",
            "\n"
          ]
        }
      ],
      "source": [
        "# Predictions on training set\n",
        "print(\"Predictions on training set...\")\n",
        "Y_train_pred = gridsearch_xgboost.predict(X_train)\n",
        "print(\"...Done.\")\n",
        "print(Y_train_pred)\n",
        "print()\n",
        "\n",
        "# It's also possible to get the probabilities estimated by the model:\n",
        "print(\"Probabilities on training set...\")\n",
        "Y_train_proba = gridsearch_xgboost.predict_proba(X_train)\n",
        "print(\"...Done.\")\n",
        "print(Y_train_proba)\n",
        "print()"
      ]
    },
    {
      "cell_type": "code",
      "execution_count": 119,
      "id": "8418ee95-9744-4e32-a82d-1bed80c84011",
      "metadata": {
        "id": "8418ee95-9744-4e32-a82d-1bed80c84011",
        "colab": {
          "base_uri": "https://localhost:8080/"
        },
        "outputId": "ada42778-b690-44a6-c151-49925656d59c"
      },
      "outputs": [
        {
          "output_type": "stream",
          "name": "stdout",
          "text": [
            "Predictions on test set...\n",
            "...Done.\n",
            "[0 0 0 ... 0 0 0]\n",
            "\n",
            "Probabilities on test set...\n",
            "...Done.\n",
            "[[0.92210644 0.07789356]\n",
            " [0.98959243 0.01040757]\n",
            " [0.9899683  0.01003169]\n",
            " ...\n",
            " [0.9680563  0.03194365]\n",
            " [0.9909062  0.00909383]\n",
            " [0.9873003  0.01269974]]\n",
            "\n"
          ]
        }
      ],
      "source": [
        "# Predictions on test set\n",
        "print(\"Predictions on test set...\")\n",
        "Y_test_pred = gridsearch_xgboost.predict(X_test)\n",
        "print(\"...Done.\")\n",
        "print(Y_test_pred)\n",
        "print()\n",
        "\n",
        "# It's also possible to get the probabilities estimated by the model:\n",
        "print(\"Probabilities on test set...\")\n",
        "Y_test_proba = gridsearch_xgboost.predict_proba(X_test)\n",
        "print(\"...Done.\")\n",
        "print(Y_test_proba)\n",
        "print()"
      ]
    },
    {
      "cell_type": "code",
      "execution_count": 120,
      "id": "412ff73a-6f75-4ad4-8085-ff5882cb83d3",
      "metadata": {
        "id": "412ff73a-6f75-4ad4-8085-ff5882cb83d3",
        "colab": {
          "base_uri": "https://localhost:8080/",
          "height": 363
        },
        "outputId": "23749cb5-3921-46fe-cf0a-4547171c8efb"
      },
      "outputs": [
        {
          "output_type": "execute_result",
          "data": {
            "text/plain": [
              "                model  f1_score    set\n",
              "0       random_forest  0.775124  train\n",
              "1       random_forest  0.755127   test\n",
              "2             bagging  0.778074  train\n",
              "3             bagging  0.755102   test\n",
              "4     adaboost_logreg  0.764690  train\n",
              "5     adaboost_logreg  0.757831   test\n",
              "6       gradientboost  0.792709  train\n",
              "7       gradientboost  0.750150   test\n",
              "8  gridsearch_xgboost  0.772464  train\n",
              "9  gridsearch_xgboost  0.756433   test"
            ],
            "text/html": [
              "\n",
              "  <div id=\"df-3450f903-84a6-4527-a66c-379b49d86442\">\n",
              "    <div class=\"colab-df-container\">\n",
              "      <div>\n",
              "<style scoped>\n",
              "    .dataframe tbody tr th:only-of-type {\n",
              "        vertical-align: middle;\n",
              "    }\n",
              "\n",
              "    .dataframe tbody tr th {\n",
              "        vertical-align: top;\n",
              "    }\n",
              "\n",
              "    .dataframe thead th {\n",
              "        text-align: right;\n",
              "    }\n",
              "</style>\n",
              "<table border=\"1\" class=\"dataframe\">\n",
              "  <thead>\n",
              "    <tr style=\"text-align: right;\">\n",
              "      <th></th>\n",
              "      <th>model</th>\n",
              "      <th>f1_score</th>\n",
              "      <th>set</th>\n",
              "    </tr>\n",
              "  </thead>\n",
              "  <tbody>\n",
              "    <tr>\n",
              "      <th>0</th>\n",
              "      <td>random_forest</td>\n",
              "      <td>0.775124</td>\n",
              "      <td>train</td>\n",
              "    </tr>\n",
              "    <tr>\n",
              "      <th>1</th>\n",
              "      <td>random_forest</td>\n",
              "      <td>0.755127</td>\n",
              "      <td>test</td>\n",
              "    </tr>\n",
              "    <tr>\n",
              "      <th>2</th>\n",
              "      <td>bagging</td>\n",
              "      <td>0.778074</td>\n",
              "      <td>train</td>\n",
              "    </tr>\n",
              "    <tr>\n",
              "      <th>3</th>\n",
              "      <td>bagging</td>\n",
              "      <td>0.755102</td>\n",
              "      <td>test</td>\n",
              "    </tr>\n",
              "    <tr>\n",
              "      <th>4</th>\n",
              "      <td>adaboost_logreg</td>\n",
              "      <td>0.764690</td>\n",
              "      <td>train</td>\n",
              "    </tr>\n",
              "    <tr>\n",
              "      <th>5</th>\n",
              "      <td>adaboost_logreg</td>\n",
              "      <td>0.757831</td>\n",
              "      <td>test</td>\n",
              "    </tr>\n",
              "    <tr>\n",
              "      <th>6</th>\n",
              "      <td>gradientboost</td>\n",
              "      <td>0.792709</td>\n",
              "      <td>train</td>\n",
              "    </tr>\n",
              "    <tr>\n",
              "      <th>7</th>\n",
              "      <td>gradientboost</td>\n",
              "      <td>0.750150</td>\n",
              "      <td>test</td>\n",
              "    </tr>\n",
              "    <tr>\n",
              "      <th>8</th>\n",
              "      <td>gridsearch_xgboost</td>\n",
              "      <td>0.772464</td>\n",
              "      <td>train</td>\n",
              "    </tr>\n",
              "    <tr>\n",
              "      <th>9</th>\n",
              "      <td>gridsearch_xgboost</td>\n",
              "      <td>0.756433</td>\n",
              "      <td>test</td>\n",
              "    </tr>\n",
              "  </tbody>\n",
              "</table>\n",
              "</div>\n",
              "      <button class=\"colab-df-convert\" onclick=\"convertToInteractive('df-3450f903-84a6-4527-a66c-379b49d86442')\"\n",
              "              title=\"Convert this dataframe to an interactive table.\"\n",
              "              style=\"display:none;\">\n",
              "        \n",
              "  <svg xmlns=\"http://www.w3.org/2000/svg\" height=\"24px\"viewBox=\"0 0 24 24\"\n",
              "       width=\"24px\">\n",
              "    <path d=\"M0 0h24v24H0V0z\" fill=\"none\"/>\n",
              "    <path d=\"M18.56 5.44l.94 2.06.94-2.06 2.06-.94-2.06-.94-.94-2.06-.94 2.06-2.06.94zm-11 1L8.5 8.5l.94-2.06 2.06-.94-2.06-.94L8.5 2.5l-.94 2.06-2.06.94zm10 10l.94 2.06.94-2.06 2.06-.94-2.06-.94-.94-2.06-.94 2.06-2.06.94z\"/><path d=\"M17.41 7.96l-1.37-1.37c-.4-.4-.92-.59-1.43-.59-.52 0-1.04.2-1.43.59L10.3 9.45l-7.72 7.72c-.78.78-.78 2.05 0 2.83L4 21.41c.39.39.9.59 1.41.59.51 0 1.02-.2 1.41-.59l7.78-7.78 2.81-2.81c.8-.78.8-2.07 0-2.86zM5.41 20L4 18.59l7.72-7.72 1.47 1.35L5.41 20z\"/>\n",
              "  </svg>\n",
              "      </button>\n",
              "      \n",
              "  <style>\n",
              "    .colab-df-container {\n",
              "      display:flex;\n",
              "      flex-wrap:wrap;\n",
              "      gap: 12px;\n",
              "    }\n",
              "\n",
              "    .colab-df-convert {\n",
              "      background-color: #E8F0FE;\n",
              "      border: none;\n",
              "      border-radius: 50%;\n",
              "      cursor: pointer;\n",
              "      display: none;\n",
              "      fill: #1967D2;\n",
              "      height: 32px;\n",
              "      padding: 0 0 0 0;\n",
              "      width: 32px;\n",
              "    }\n",
              "\n",
              "    .colab-df-convert:hover {\n",
              "      background-color: #E2EBFA;\n",
              "      box-shadow: 0px 1px 2px rgba(60, 64, 67, 0.3), 0px 1px 3px 1px rgba(60, 64, 67, 0.15);\n",
              "      fill: #174EA6;\n",
              "    }\n",
              "\n",
              "    [theme=dark] .colab-df-convert {\n",
              "      background-color: #3B4455;\n",
              "      fill: #D2E3FC;\n",
              "    }\n",
              "\n",
              "    [theme=dark] .colab-df-convert:hover {\n",
              "      background-color: #434B5C;\n",
              "      box-shadow: 0px 1px 3px 1px rgba(0, 0, 0, 0.15);\n",
              "      filter: drop-shadow(0px 1px 2px rgba(0, 0, 0, 0.3));\n",
              "      fill: #FFFFFF;\n",
              "    }\n",
              "  </style>\n",
              "\n",
              "      <script>\n",
              "        const buttonEl =\n",
              "          document.querySelector('#df-3450f903-84a6-4527-a66c-379b49d86442 button.colab-df-convert');\n",
              "        buttonEl.style.display =\n",
              "          google.colab.kernel.accessAllowed ? 'block' : 'none';\n",
              "\n",
              "        async function convertToInteractive(key) {\n",
              "          const element = document.querySelector('#df-3450f903-84a6-4527-a66c-379b49d86442');\n",
              "          const dataTable =\n",
              "            await google.colab.kernel.invokeFunction('convertToInteractive',\n",
              "                                                     [key], {});\n",
              "          if (!dataTable) return;\n",
              "\n",
              "          const docLinkHtml = 'Like what you see? Visit the ' +\n",
              "            '<a target=\"_blank\" href=https://colab.research.google.com/notebooks/data_table.ipynb>data table notebook</a>'\n",
              "            + ' to learn more about interactive tables.';\n",
              "          element.innerHTML = '';\n",
              "          dataTable['output_type'] = 'display_data';\n",
              "          await google.colab.output.renderOutput(dataTable, element);\n",
              "          const docLink = document.createElement('div');\n",
              "          docLink.innerHTML = docLinkHtml;\n",
              "          element.appendChild(docLink);\n",
              "        }\n",
              "      </script>\n",
              "    </div>\n",
              "  </div>\n",
              "  "
            ]
          },
          "metadata": {},
          "execution_count": 120
        }
      ],
      "source": [
        "scores_df = scores_df.append({'model': 'gridsearch_xgboost', 'f1_score': f1_score(Y_train, Y_train_pred), 'set': 'train'}, ignore_index = True)\n",
        "scores_df = scores_df.append({'model': 'gridsearch_xgboost', 'f1_score': f1_score(Y_test, Y_test_pred), 'set': 'test'}, ignore_index = True)\n",
        "scores_df"
      ]
    },
    {
      "cell_type": "code",
      "execution_count": 121,
      "id": "bdbd5290-ac83-4889-a0c3-39c2d3034cab",
      "metadata": {
        "id": "bdbd5290-ac83-4889-a0c3-39c2d3034cab",
        "colab": {
          "base_uri": "https://localhost:8080/",
          "height": 542
        },
        "outputId": "67411b5a-c205-40b7-e39f-05abf048c0c7"
      },
      "outputs": [
        {
          "output_type": "display_data",
          "data": {
            "text/html": [
              "<html>\n",
              "<head><meta charset=\"utf-8\" /></head>\n",
              "<body>\n",
              "    <div>            <script src=\"https://cdnjs.cloudflare.com/ajax/libs/mathjax/2.7.5/MathJax.js?config=TeX-AMS-MML_SVG\"></script><script type=\"text/javascript\">if (window.MathJax) {MathJax.Hub.Config({SVG: {font: \"STIX-Web\"}});}</script>                <script type=\"text/javascript\">window.PlotlyConfig = {MathJaxConfig: 'local'};</script>\n",
              "        <script src=\"https://cdn.plot.ly/plotly-2.8.3.min.js\"></script>                <div id=\"06a28167-a793-4e4f-91b4-804c37dac6a5\" class=\"plotly-graph-div\" style=\"height:525px; width:900px;\"></div>            <script type=\"text/javascript\">                                    window.PLOTLYENV=window.PLOTLYENV || {};                                    if (document.getElementById(\"06a28167-a793-4e4f-91b4-804c37dac6a5\")) {                    Plotly.newPlot(                        \"06a28167-a793-4e4f-91b4-804c37dac6a5\",                        [{\"alignmentgroup\":\"True\",\"hovertemplate\":\"set=train<br>model=%{x}<br>f1_score=%{y}<extra></extra>\",\"legendgroup\":\"train\",\"marker\":{\"color\":\"#4B9AC7\",\"pattern\":{\"shape\":\"\"}},\"name\":\"train\",\"offsetgroup\":\"train\",\"orientation\":\"v\",\"showlegend\":true,\"textposition\":\"auto\",\"x\":[\"random_forest\",\"bagging\",\"adaboost_logreg\",\"gradientboost\",\"gridsearch_xgboost\"],\"xaxis\":\"x\",\"y\":[0.7751241110962029,0.7780737977887305,0.764690170940171,0.7927088877062267,0.7724642500831393],\"yaxis\":\"y\",\"type\":\"bar\"},{\"alignmentgroup\":\"True\",\"hovertemplate\":\"set=test<br>model=%{x}<br>f1_score=%{y}<extra></extra>\",\"legendgroup\":\"test\",\"marker\":{\"color\":\"#4BE8E0\",\"pattern\":{\"shape\":\"\"}},\"name\":\"test\",\"offsetgroup\":\"test\",\"orientation\":\"v\",\"showlegend\":true,\"textposition\":\"auto\",\"x\":[\"random_forest\",\"bagging\",\"adaboost_logreg\",\"gradientboost\",\"gridsearch_xgboost\"],\"xaxis\":\"x\",\"y\":[0.7551266586248492,0.7551020408163266,0.7578313253012048,0.750149790293589,0.7564332734889289],\"yaxis\":\"y\",\"type\":\"bar\"}],                        {\"template\":{\"layout\":{\"colorway\":[\"#4B9AC7\",\"#4BE8E0\",\"#9DD4F3\",\"#97FBF6\",\"#2A7FAF\",\"#23B1AB\",\"#0E3449\",\"#015955\"]}},\"xaxis\":{\"anchor\":\"y\",\"domain\":[0.0,1.0],\"title\":{\"text\":\"model\"}},\"yaxis\":{\"anchor\":\"x\",\"domain\":[0.0,1.0],\"title\":{\"text\":\"f1_score\"}},\"legend\":{\"title\":{\"text\":\"set\"},\"tracegroupgap\":0},\"margin\":{\"t\":60},\"barmode\":\"group\",\"width\":900},                        {\"responsive\": true}                    ).then(function(){\n",
              "                            \n",
              "var gd = document.getElementById('06a28167-a793-4e4f-91b4-804c37dac6a5');\n",
              "var x = new MutationObserver(function (mutations, observer) {{\n",
              "        var display = window.getComputedStyle(gd).display;\n",
              "        if (!display || display === 'none') {{\n",
              "            console.log([gd, 'removed!']);\n",
              "            Plotly.purge(gd);\n",
              "            observer.disconnect();\n",
              "        }}\n",
              "}});\n",
              "\n",
              "// Listen for the removal of the full notebook cells\n",
              "var notebookContainer = gd.closest('#notebook-container');\n",
              "if (notebookContainer) {{\n",
              "    x.observe(notebookContainer, {childList: true});\n",
              "}}\n",
              "\n",
              "// Listen for the clearing of the current output cell\n",
              "var outputEl = gd.closest('.output');\n",
              "if (outputEl) {{\n",
              "    x.observe(outputEl, {childList: true});\n",
              "}}\n",
              "\n",
              "                        })                };                            </script>        </div>\n",
              "</body>\n",
              "</html>"
            ]
          },
          "metadata": {}
        }
      ],
      "source": [
        "px.bar(scores_df, x = \"model\", y = 'f1_score', color = 'set', barmode = 'group', width = 900)"
      ]
    },
    {
      "cell_type": "code",
      "execution_count": 122,
      "id": "18214e2c-5322-4e7f-8478-3693bcc3abf2",
      "metadata": {
        "id": "18214e2c-5322-4e7f-8478-3693bcc3abf2",
        "colab": {
          "base_uri": "https://localhost:8080/"
        },
        "outputId": "2f03efc2-7e17-4a80-d16d-a76e231f171d"
      },
      "outputs": [
        {
          "output_type": "execute_result",
          "data": {
            "text/plain": [
              "AdaBoostClassifier(base_estimator=LogisticRegression(max_iter=1000))"
            ]
          },
          "metadata": {},
          "execution_count": 122
        }
      ],
      "source": [
        "# Concatenate our train and test set to train your best classifier on all data with labels\n",
        "X = np.append(X_train,X_test,axis=0)\n",
        "Y = np.append(Y_train,Y_test)\n",
        "\n",
        "adaboost_logreg.fit(X,Y)"
      ]
    },
    {
      "cell_type": "markdown",
      "id": "7dfef1e7-b9d6-48bc-8988-ac7aa706312e",
      "metadata": {
        "id": "7dfef1e7-b9d6-48bc-8988-ac7aa706312e"
      },
      "source": [
        "Find feature importance on AdaBoostClassifier"
      ]
    },
    {
      "cell_type": "code",
      "execution_count": 123,
      "id": "2b747fe7-87ce-49cd-b84e-2a49c1a5f4f3",
      "metadata": {
        "id": "2b747fe7-87ce-49cd-b84e-2a49c1a5f4f3",
        "colab": {
          "base_uri": "https://localhost:8080/"
        },
        "outputId": "fd92103e-73ec-4adf-b422-0b45b6d77b06"
      },
      "outputs": [
        {
          "output_type": "execute_result",
          "data": {
            "text/plain": [
              "array([0.58, 0.1 , 0.08, 0.12, 0.1 , 0.02, 0.  , 0.  ])"
            ]
          },
          "metadata": {},
          "execution_count": 123
        }
      ],
      "source": [
        "from sklearn.ensemble import AdaBoostClassifier\n",
        "\n",
        "model = AdaBoostClassifier()\n",
        "model.fit(X_train, Y_train) \n",
        "model.feature_importances_"
      ]
    },
    {
      "cell_type": "code",
      "execution_count": 124,
      "id": "1b3bb41c-8352-42c7-927b-ff30b78703a2",
      "metadata": {
        "id": "1b3bb41c-8352-42c7-927b-ff30b78703a2",
        "colab": {
          "base_uri": "https://localhost:8080/"
        },
        "outputId": "27c7f753-e829-4706-9f45-50aca555428b"
      },
      "outputs": [
        {
          "output_type": "execute_result",
          "data": {
            "text/plain": [
              "array([[-0.85939501, -0.91458053,  0.        , ...,  0.        ,\n",
              "         1.        ,  0.        ],\n",
              "       [-0.85939501, -0.30994956,  0.        , ...,  0.        ,\n",
              "         0.        ,  0.        ],\n",
              "       [ 0.63639894, -0.06809718,  0.        , ...,  1.        ,\n",
              "         0.        ,  1.        ],\n",
              "       ...,\n",
              "       [-1.1585538 ,  0.05282902,  0.        , ...,  0.        ,\n",
              "         0.        ,  0.        ],\n",
              "       [ 1.23471652, -0.43087576,  0.        , ...,  0.        ,\n",
              "         0.        ,  0.        ],\n",
              "       [ 0.93555773,  0.65745999,  0.        , ...,  1.        ,\n",
              "         0.        ,  1.        ]])"
            ]
          },
          "metadata": {},
          "execution_count": 124
        }
      ],
      "source": [
        "X_train"
      ]
    },
    {
      "cell_type": "code",
      "execution_count": 125,
      "id": "8ea94273-35c3-4001-a915-bd500fb37f95",
      "metadata": {
        "id": "8ea94273-35c3-4001-a915-bd500fb37f95",
        "colab": {
          "base_uri": "https://localhost:8080/"
        },
        "outputId": "b1a3761b-032c-4c64-f5a9-e482a2a96a3f"
      },
      "outputs": [
        {
          "output_type": "execute_result",
          "data": {
            "text/plain": [
              "[('num',\n",
              "  Pipeline(steps=[('imputer', SimpleImputer()), ('scaler', StandardScaler())]),\n",
              "  ['total_pages_visited', 'age']),\n",
              " ('cat',\n",
              "  Pipeline(steps=[('encoder', OneHotEncoder(drop='first'))]),\n",
              "  ['country', 'new_user', 'source'])]"
            ]
          },
          "metadata": {},
          "execution_count": 125
        }
      ],
      "source": [
        "preprocessor.transformers_"
      ]
    },
    {
      "cell_type": "code",
      "execution_count": 126,
      "id": "1a4a4d13-4414-4775-8cca-c654455d0f64",
      "metadata": {
        "id": "1a4a4d13-4414-4775-8cca-c654455d0f64"
      },
      "outputs": [],
      "source": [
        "my_feature_list = []\n",
        "my_feature_list.extend(preprocessor.transformers_[0][2])\n",
        "my_feature_list.extend(preprocessor.transformers_[1][1].get_feature_names_out())"
      ]
    },
    {
      "cell_type": "code",
      "execution_count": 127,
      "id": "db426e7a-31dc-473c-943b-73d0dacd2455",
      "metadata": {
        "id": "db426e7a-31dc-473c-943b-73d0dacd2455",
        "colab": {
          "base_uri": "https://localhost:8080/"
        },
        "outputId": "914e951d-55c7-4964-ada7-a0ef4bdec9bc"
      },
      "outputs": [
        {
          "output_type": "execute_result",
          "data": {
            "text/plain": [
              "['total_pages_visited',\n",
              " 'age',\n",
              " 'country_Germany',\n",
              " 'country_UK',\n",
              " 'country_US',\n",
              " 'new_user_1',\n",
              " 'source_Direct',\n",
              " 'source_Seo']"
            ]
          },
          "metadata": {},
          "execution_count": 127
        }
      ],
      "source": [
        "my_feature_list"
      ]
    },
    {
      "cell_type": "code",
      "execution_count": 128,
      "id": "530d5f2b-0af7-4b4f-8c8b-a4ce5b3c17f9",
      "metadata": {
        "id": "530d5f2b-0af7-4b4f-8c8b-a4ce5b3c17f9"
      },
      "outputs": [],
      "source": [
        "feature_importance = pd.DataFrame(index = my_feature_list, data = model.feature_importances_)"
      ]
    },
    {
      "cell_type": "code",
      "execution_count": 129,
      "id": "8ed3fd08-9a09-48d0-9c19-66f88a6cef74",
      "metadata": {
        "id": "8ed3fd08-9a09-48d0-9c19-66f88a6cef74"
      },
      "outputs": [],
      "source": [
        "sorted_feature_importance = feature_importance.sort_values(0)"
      ]
    },
    {
      "cell_type": "code",
      "execution_count": 130,
      "id": "537a1d17-bec5-4675-8482-a4872b2839d7",
      "metadata": {
        "id": "537a1d17-bec5-4675-8482-a4872b2839d7",
        "colab": {
          "base_uri": "https://localhost:8080/",
          "height": 542
        },
        "outputId": "16a7e12e-c918-4575-fd9b-f2af45f05943"
      },
      "outputs": [
        {
          "output_type": "display_data",
          "data": {
            "text/html": [
              "<html>\n",
              "<head><meta charset=\"utf-8\" /></head>\n",
              "<body>\n",
              "    <div>            <script src=\"https://cdnjs.cloudflare.com/ajax/libs/mathjax/2.7.5/MathJax.js?config=TeX-AMS-MML_SVG\"></script><script type=\"text/javascript\">if (window.MathJax) {MathJax.Hub.Config({SVG: {font: \"STIX-Web\"}});}</script>                <script type=\"text/javascript\">window.PlotlyConfig = {MathJaxConfig: 'local'};</script>\n",
              "        <script src=\"https://cdn.plot.ly/plotly-2.8.3.min.js\"></script>                <div id=\"38f3bda2-3782-477a-93da-c0237816269b\" class=\"plotly-graph-div\" style=\"height:525px; width:100%;\"></div>            <script type=\"text/javascript\">                                    window.PLOTLYENV=window.PLOTLYENV || {};                                    if (document.getElementById(\"38f3bda2-3782-477a-93da-c0237816269b\")) {                    Plotly.newPlot(                        \"38f3bda2-3782-477a-93da-c0237816269b\",                        [{\"alignmentgroup\":\"True\",\"hovertemplate\":\"variable=0<br>value=%{x}<br>index=%{y}<extra></extra>\",\"legendgroup\":\"0\",\"marker\":{\"color\":\"#4B9AC7\",\"pattern\":{\"shape\":\"\"}},\"name\":\"0\",\"offsetgroup\":\"0\",\"orientation\":\"h\",\"showlegend\":true,\"textposition\":\"auto\",\"x\":[0.0,0.0,0.02,0.08,0.1,0.1,0.12,0.58],\"xaxis\":\"x\",\"y\":[\"source_Direct\",\"source_Seo\",\"new_user_1\",\"country_Germany\",\"age\",\"country_US\",\"country_UK\",\"total_pages_visited\"],\"yaxis\":\"y\",\"type\":\"bar\"}],                        {\"template\":{\"layout\":{\"colorway\":[\"#4B9AC7\",\"#4BE8E0\",\"#9DD4F3\",\"#97FBF6\",\"#2A7FAF\",\"#23B1AB\",\"#0E3449\",\"#015955\"]}},\"xaxis\":{\"anchor\":\"y\",\"domain\":[0.0,1.0],\"title\":{\"text\":\"value\"}},\"yaxis\":{\"anchor\":\"x\",\"domain\":[0.0,1.0],\"title\":{\"text\":\"index\"}},\"legend\":{\"title\":{\"text\":\"variable\"},\"tracegroupgap\":0},\"margin\":{\"t\":60,\"l\":120},\"barmode\":\"relative\",\"showlegend\":false},                        {\"responsive\": true}                    ).then(function(){\n",
              "                            \n",
              "var gd = document.getElementById('38f3bda2-3782-477a-93da-c0237816269b');\n",
              "var x = new MutationObserver(function (mutations, observer) {{\n",
              "        var display = window.getComputedStyle(gd).display;\n",
              "        if (!display || display === 'none') {{\n",
              "            console.log([gd, 'removed!']);\n",
              "            Plotly.purge(gd);\n",
              "            observer.disconnect();\n",
              "        }}\n",
              "}});\n",
              "\n",
              "// Listen for the removal of the full notebook cells\n",
              "var notebookContainer = gd.closest('#notebook-container');\n",
              "if (notebookContainer) {{\n",
              "    x.observe(notebookContainer, {childList: true});\n",
              "}}\n",
              "\n",
              "// Listen for the clearing of the current output cell\n",
              "var outputEl = gd.closest('.output');\n",
              "if (outputEl) {{\n",
              "    x.observe(outputEl, {childList: true});\n",
              "}}\n",
              "\n",
              "                        })                };                            </script>        </div>\n",
              "</body>\n",
              "</html>"
            ]
          },
          "metadata": {}
        }
      ],
      "source": [
        "# Plot coefficients\n",
        "fig = px.bar(sorted_feature_importance, orientation = 'h')\n",
        "fig.update_layout(showlegend = False, \n",
        "                  margin = {'l': 120} # to avoid cropping of column names\n",
        "                 )\n",
        "fig.show()"
      ]
    },
    {
      "cell_type": "markdown",
      "id": "43bf419b-8a22-434e-bfb1-dec780830591",
      "metadata": {
        "id": "43bf419b-8a22-434e-bfb1-dec780830591"
      },
      "source": [
        "# The content of the pages should be improved as it is the feature that is most revelant according to adaboost model"
      ]
    },
    {
      "cell_type": "code",
      "execution_count": 130,
      "id": "0129babe-6b27-4dcc-88b2-f7b5792ba308",
      "metadata": {
        "id": "0129babe-6b27-4dcc-88b2-f7b5792ba308"
      },
      "outputs": [],
      "source": []
    }
  ],
  "metadata": {
    "kernelspec": {
      "display_name": "Python 3 (ipykernel)",
      "language": "python",
      "name": "python3"
    },
    "language_info": {
      "codemirror_mode": {
        "name": "ipython",
        "version": 3
      },
      "file_extension": ".py",
      "mimetype": "text/x-python",
      "name": "python",
      "nbconvert_exporter": "python",
      "pygments_lexer": "ipython3",
      "version": "3.9.7"
    },
    "colab": {
      "provenance": []
    },
    "accelerator": "GPU",
    "gpuClass": "standard"
  },
  "nbformat": 4,
  "nbformat_minor": 5
}